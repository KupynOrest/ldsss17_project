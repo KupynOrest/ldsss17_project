{
 "cells": [
  {
   "cell_type": "code",
   "execution_count": 2,
   "metadata": {
    "collapsed": true
   },
   "outputs": [],
   "source": [
    "# compatability issues (python 2 & python 3)\n",
    "from __future__ import print_function\n",
    "from __future__ import division"
   ]
  },
  {
   "cell_type": "code",
   "execution_count": 3,
   "metadata": {
    "collapsed": true
   },
   "outputs": [],
   "source": [
    "# needed libs\n",
    "import numpy as np\n",
    "import os\n",
    "from PIL import Image\n",
    "import matplotlib.pyplot as plt\n",
    "# torch stuff\n",
    "import torch\n",
    "import torchvision\n",
    "import torchvision.transforms as transforms"
   ]
  },
  {
   "cell_type": "code",
   "execution_count": 4,
   "metadata": {
    "collapsed": true
   },
   "outputs": [],
   "source": [
    "# to make interactive plotting possible\n",
    "%matplotlib inline\n",
    "# for auto-reloading external modules\n",
    "%load_ext autoreload\n",
    "%autoreload 2"
   ]
  },
  {
   "cell_type": "code",
   "execution_count": 5,
   "metadata": {
    "collapsed": false
   },
   "outputs": [
    {
     "data": {
      "text/html": [
       "<iframe src=http://crcv.ucf.edu/data/UCF101.php width=\"100%\" height=500></iframe>"
      ],
      "text/plain": [
       "<IPython.core.display.HTML object>"
      ]
     },
     "execution_count": 5,
     "metadata": {},
     "output_type": "execute_result"
    }
   ],
   "source": [
    "# the associated webpage\n",
    "import IPython\n",
    "url = 'http://crcv.ucf.edu/data/UCF101.php'\n",
    "iframe = '<iframe src=' + url + ' width=\"100%\" height=500></iframe>'\n",
    "IPython.display.HTML(iframe)"
   ]
  },
  {
   "cell_type": "code",
   "execution_count": 6,
   "metadata": {
    "collapsed": true
   },
   "outputs": [],
   "source": [
    "path_project = os.getcwd()\n",
    "path_data = '~/UCF101/'\n",
    "path_data_video = os.path.join(path_data, 'videos')\n",
    "path_data_images = os.path.join(path_data, 'images')"
   ]
  },
  {
   "cell_type": "code",
   "execution_count": 7,
   "metadata": {
    "collapsed": true
   },
   "outputs": [],
   "source": [
    "classes = sorted(os.listdir(path_data_video))"
   ]
  },
  {
   "cell_type": "code",
   "execution_count": 8,
   "metadata": {
    "collapsed": false
   },
   "outputs": [],
   "source": [
    "n_classes = len(classes)"
   ]
  },
  {
   "cell_type": "code",
   "execution_count": 9,
   "metadata": {
    "collapsed": false
   },
   "outputs": [
    {
     "name": "stdout",
     "output_type": "stream",
     "text": [
      "There are 101 classes:\n",
      "\n",
      "['ApplyEyeMakeup', 'ApplyLipstick', 'Archery', 'BabyCrawling', 'BalanceBeam', 'BandMarching', 'BaseballPitch', 'Basketball', 'BasketballDunk', 'BenchPress', 'Biking', 'Billiards', 'BlowDryHair', 'BlowingCandles', 'BodyWeightSquats', 'Bowling', 'BoxingPunchingBag', 'BoxingSpeedBag', 'BreastStroke', 'BrushingTeeth', 'CleanAndJerk', 'CliffDiving', 'CricketBowling', 'CricketShot', 'CuttingInKitchen', 'Diving', 'Drumming', 'Fencing', 'FieldHockeyPenalty', 'FloorGymnastics', 'FrisbeeCatch', 'FrontCrawl', 'GolfSwing', 'Haircut', 'HammerThrow', 'Hammering', 'HandstandPushups', 'HandstandWalking', 'HeadMassage', 'HighJump', 'HorseRace', 'HorseRiding', 'HulaHoop', 'IceDancing', 'JavelinThrow', 'JugglingBalls', 'JumpRope', 'JumpingJack', 'Kayaking', 'Knitting', 'LongJump', 'Lunges', 'MilitaryParade', 'Mixing', 'MoppingFloor', 'Nunchucks', 'ParallelBars', 'PizzaTossing', 'PlayingCello', 'PlayingDaf', 'PlayingDhol', 'PlayingFlute', 'PlayingGuitar', 'PlayingPiano', 'PlayingSitar', 'PlayingTabla', 'PlayingViolin', 'PoleVault', 'PommelHorse', 'PullUps', 'Punch', 'PushUps', 'Rafting', 'RockClimbingIndoor', 'RopeClimbing', 'Rowing', 'SalsaSpin', 'ShavingBeard', 'Shotput', 'SkateBoarding', 'Skiing', 'Skijet', 'SkyDiving', 'SoccerJuggling', 'SoccerPenalty', 'StillRings', 'SumoWrestling', 'Surfing', 'Swing', 'TableTennisShot', 'TaiChi', 'TennisSwing', 'ThrowDiscus', 'TrampolineJumping', 'Typing', 'UnevenBars', 'VolleyballSpiking', 'WalkingWithDog', 'WallPushups', 'WritingOnBoard', 'YoYo']\n"
     ]
    }
   ],
   "source": [
    "print(\"There are \" + str(len(classes)) + \" classes:\")\n",
    "print()\n",
    "print(classes)"
   ]
  },
  {
   "cell_type": "code",
   "execution_count": 10,
   "metadata": {
    "collapsed": false
   },
   "outputs": [],
   "source": [
    "num_classes = [(x, len(os.listdir(os.path.join(path_data_video, x)))) for x in classes]"
   ]
  },
  {
   "cell_type": "code",
   "execution_count": 11,
   "metadata": {
    "collapsed": false
   },
   "outputs": [],
   "source": [
    "num_classes.sort(key=lambda x:-x[1])"
   ]
  },
  {
   "cell_type": "code",
   "execution_count": 12,
   "metadata": {
    "collapsed": false
   },
   "outputs": [
    {
     "name": "stdout",
     "output_type": "stream",
     "text": [
      "[('CricketShot', 167), ('TennisSwing', 166), ('HorseRiding', 164), ('PlayingCello', 164), ('PlayingDhol', 164), ('BoxingPunchingBag', 163), ('Drumming', 161), ('ShavingBeard', 161), ('BenchPress', 160), ('PlayingGuitar', 160), ('Punch', 160), ('IceDancing', 158), ('PlayingSitar', 157), ('BandMarching', 155), ('Bowling', 155), ('PlayingFlute', 155), ('WritingOnBoard', 152), ('PlayingDaf', 151), ('BaseballPitch', 150), ('Billiards', 150), ('Diving', 150), ('HammerThrow', 150), ('PoleVault', 149), ('HeadMassage', 147), ('SoccerJuggling', 147), ('ApplyEyeMakeup', 145), ('Archery', 145), ('JumpRope', 144), ('RockClimbingIndoor', 144), ('Shotput', 144), ('Kayaking', 141), ('Hammering', 140), ('TableTennisShot', 140), ('CricketBowling', 139), ('GolfSwing', 139), ('CliffDiving', 138), ('FrontCrawl', 137), ('Rowing', 137), ('SoccerPenalty', 137), ('Mixing', 136), ('Typing', 136), ('Skiing', 135), ('Basketball', 134), ('Biking', 134), ('BoxingSpeedBag', 134), ('SalsaSpin', 133), ('BabyCrawling', 132), ('Nunchucks', 132), ('BasketballDunk', 131), ('BlowDryHair', 131), ('BrushingTeeth', 131), ('LongJump', 131), ('Swing', 131), ('Haircut', 130), ('ThrowDiscus', 130), ('WallPushups', 130), ('HandstandPushups', 128), ('YoYo', 128), ('Lunges', 127), ('FieldHockeyPenalty', 126), ('FrisbeeCatch', 126), ('Surfing', 126), ('FloorGymnastics', 125), ('HulaHoop', 125), ('MilitaryParade', 125), ('HorseRace', 124), ('HighJump', 123), ('JumpingJack', 123), ('Knitting', 123), ('PommelHorse', 123), ('WalkingWithDog', 123), ('JugglingBalls', 121), ('SkateBoarding', 120), ('RopeClimbing', 119), ('TrampolineJumping', 119), ('JavelinThrow', 117), ('SumoWrestling', 116), ('VolleyballSpiking', 116), ('ApplyLipstick', 114), ('ParallelBars', 114), ('PizzaTossing', 113), ('BodyWeightSquats', 112), ('CleanAndJerk', 112), ('StillRings', 112), ('Fencing', 111), ('HandstandWalking', 111), ('PlayingTabla', 111), ('Rafting', 111), ('CuttingInKitchen', 110), ('MoppingFloor', 110), ('SkyDiving', 110), ('BlowingCandles', 109), ('BalanceBeam', 108), ('PlayingPiano', 105), ('UnevenBars', 104), ('PushUps', 102), ('BreastStroke', 101), ('PlayingViolin', 100), ('PullUps', 100), ('Skijet', 100), ('TaiChi', 100)]\n"
     ]
    }
   ],
   "source": [
    "print(num_classes)"
   ]
  },
  {
   "cell_type": "markdown",
   "metadata": {},
   "source": [
    "#### Create folder with images"
   ]
  },
  {
   "cell_type": "code",
   "execution_count": 13,
   "metadata": {
    "collapsed": false
   },
   "outputs": [],
   "source": [
    "# create folder for images\n",
    "if not os.path.exists(path_data_images):\n",
    "    os.mkdir(path_data_images)"
   ]
  },
  {
   "cell_type": "code",
   "execution_count": 14,
   "metadata": {
    "collapsed": false
   },
   "outputs": [],
   "source": [
    "# create folders and split to images\n",
    "for x in classes[:3]:\n",
    "    path_class_folder_im = os.path.join(path_data_images, x)\n",
    "    path_class_folder_v = os.path.join(path_data_video, x)\n",
    "    if not os.path.exists(path_class_folder_im):\n",
    "        os.mkdir(path_class_folder_im)\n",
    "    list_video = sorted(os.listdir(path_class_folder_v))\n",
    "    for v in list_video:\n",
    "        path_class_folder_v_video = os.path.join(path_class_folder_v, v)\n",
    "        path_class_folder_im_video = os.path.join(path_class_folder_im, v)[:-4] # withou 'avi' ending\n",
    "        if not os.path.exists(path_class_folder_im_video):\n",
    "            os.mkdir(path_class_folder_im_video)\n",
    "        os.system(\"ffmpeg -i \" + path_class_folder_v_video + \n",
    "                  \" -f image2 \" + path_class_folder_im_video + \n",
    "                  \"/im_%03d.jpg\")"
   ]
  },
  {
   "cell_type": "code",
   "execution_count": 21,
   "metadata": {
    "collapsed": true
   },
   "outputs": [],
   "source": [
    "num_frames = [len(os.listdir(os.path.join(path_data_images, x, v)))\n",
    "              for x in classes[:3]\n",
    "              for v in sorted(os.listdir(os.path.join(path_data_images, x)))\n",
    "              ]"
   ]
  },
  {
   "cell_type": "code",
   "execution_count": 33,
   "metadata": {
    "collapsed": true
   },
   "outputs": [
    {
     "name": "stdout",
     "output_type": "stream",
     "text": [
      "mean: 168\n",
      "max: 558\n",
      "min: 52\n",
      "\n",
      "total sum: 68141\n"
     ]
    },
    {
     "data": {
      "image/png": "[encoded data removed]",
      "text/plain": [
       "<matplotlib.figure.Figure at 0x7f2ecd9eb2e8>"
      ]
     },
     "metadata": {},
     "output_type": "display_data"
    }
   ],
   "source": [
    "plt.hist(num_frames, bins=20);\n",
    "print(\"mean: %d\\nmax: %d\\nmin: %d\\n\\ntotal sum: %d\" % (np.mean(num_frames), \n",
    "                                          np.max(num_frames), \n",
    "                                          np.min(num_frames), \n",
    "                                          np.sum(num_frames)))"
   ]
  },
  {
   "cell_type": "code",
   "execution_count": null,
   "metadata": {
    "collapsed": true
   },
   "outputs": [],
   "source": [
    ""
   ]
  }
 ],
 "metadata": {
  "kernelspec": {
   "display_name": "Python 3",
   "language": "python",
   "name": "python3"
  },
  "language_info": {
   "codemirror_mode": {
    "name": "ipython",
    "version": 3.0
   },
   "file_extension": ".py",
   "mimetype": "text/x-python",
   "name": "python",
   "nbconvert_exporter": "python",
   "pygments_lexer": "ipython3",
   "version": "3.6.0"
  }
 },
 "nbformat": 4,
 "nbformat_minor": 0
}