{
 "cells": [
  {
   "cell_type": "code",
   "execution_count": 34,
   "metadata": {},
   "outputs": [
    {
     "data": {
      "text/plain": [
       "['.ipynb_checkpoints',\n",
       " 'data',\n",
       " 'RNN + loader + basic training.ipynb',\n",
       " 'extractor.py',\n",
       " '__pycache__',\n",
       " 'conv features extract + lstm.ipynb',\n",
       " 'nohup.out',\n",
       " 'object_detection',\n",
       " 'Obj_detector']"
      ]
     },
     "execution_count": 34,
     "metadata": {},
     "output_type": "execute_result"
    }
   ],
   "source": [
    "import numpy as np\n",
    "import os\n",
    "\n",
    "import torch \n",
    "import torch.nn as nn\n",
    "import torchvision.datasets as dsets\n",
    "import torchvision.transforms as transforms\n",
    "\n",
    "\n",
    "from torch.autograd import Variable\n",
    "\n",
    "from extractor import get_features\n",
    "from extractor\n",
    "os.listdir()"
   ]
  },
  {
   "cell_type": "code",
   "execution_count": 35,
   "metadata": {
    "collapsed": true
   },
   "outputs": [],
   "source": [
    "hidden_size = 128\n",
    "input_size = 512\n",
    "num_layers = 2\n",
    "batch_size = 2\n",
    "num_epochs = 100\n",
    "learning_rate = 0.01\n",
    "num_classes = 3\n",
    "sequence_length = 157\n",
    "label_str_to_int = {'ApplyEyeMakeup': 0, 'Archery': 1, 'ApplyLipstick': 2}"
   ]
  },
  {
   "cell_type": "code",
   "execution_count": 37,
   "metadata": {},
   "outputs": [
    {
     "data": {
      "text/plain": [
       "RNN (\n",
       "  (lstm): LSTM(512, 128, num_layers=2, batch_first=True)\n",
       "  (fc): Linear (128 -> 3)\n",
       ")"
      ]
     },
     "execution_count": 37,
     "metadata": {},
     "output_type": "execute_result"
    }
   ],
   "source": [
    "# RNN Model (Many-to-One)\n",
    "class RNN(nn.Module):\n",
    "    def __init__(self, input_size, hidden_size, num_layers, num_classes):\n",
    "        super(RNN, self).__init__()\n",
    "        self.hidden_size = hidden_size\n",
    "        self.num_layers = num_layers\n",
    "        self.lstm = nn.LSTM(input_size, hidden_size, num_layers, batch_first=True)\n",
    "        self.fc = nn.Linear(hidden_size, num_classes)\n",
    "    \n",
    "    def forward(self, x):\n",
    "        # Set initial states \n",
    "        h0 = Variable(torch.zeros(self.num_layers, x.size(0), self.hidden_size).cuda()) \n",
    "        c0 = Variable(torch.zeros(self.num_layers, x.size(0), self.hidden_size).cuda())\n",
    "        \n",
    "        out, _ = self.lstm(x, (h0, c0))\n",
    "        \n",
    "        # Decode hidden state of last time step\n",
    "        out = self.fc(out[:, -1, :])  \n",
    "        return out\n",
    "\n",
    "rnn = RNN(input_size=512, hidden_size=hidden_size, num_layers=num_layers, num_classes=num_classes).cuda()\n",
    "rnn\n"
   ]
  },
  {
   "cell_type": "code",
   "execution_count": 44,
   "metadata": {},
   "outputs": [
    {
     "name": "stdout",
     "output_type": "stream",
     "text": [
      "GPU is available:  True\n"
     ]
    }
   ],
   "source": [
    "print (\"GPU is available: \", torch.cuda.is_available())"
   ]
  },
  {
   "cell_type": "code",
   "execution_count": 42,
   "metadata": {
    "collapsed": true
   },
   "outputs": [],
   "source": [
    "# Loss and Optimizer\n",
    "criterion = nn.CrossEntropyLoss()\n",
    "optimizer = torch.optim.Adam(rnn.parameters(), lr=learning_rate)"
   ]
  },
  {
   "cell_type": "code",
   "execution_count": 43,
   "metadata": {
    "scrolled": true
   },
   "outputs": [
    {
     "name": "stderr",
     "output_type": "stream",
     "text": [
      "Loading movie with category Archery and 153 frames\n",
      "Loading movie with category Archery and 68 frames\n",
      "Loading movie with category ApplyEyeMakeup and 209 frames\n",
      "Loading movie with category Archery and 126 frames\n",
      "Loading movie with category ApplyEyeMakeup and 159 frames\n",
      "Loading movie with category ApplyEyeMakeup and 153 frames\n",
      "Loading movie with category ApplyEyeMakeup and 217 frames\n",
      "Loading movie with category ApplyEyeMakeup and 115 frames\n",
      "Loading movie with category Archery and 142 frames\n",
      "Loading movie with category ApplyEyeMakeup and 195 frames\n",
      "Loading movie with category ApplyEyeMakeup and 211 frames\n"
     ]
    },
    {
     "name": "stdout",
     "output_type": "stream",
     "text": [
      "torch.Size([10, 157, 512])\n",
      "Epoch [1/2], Step [1/50000], Loss: 1.1489\n"
     ]
    },
    {
     "name": "stderr",
     "output_type": "stream",
     "text": [
      "Loading movie with category Archery and 186 frames\n",
      "Loading movie with category ApplyLipstick and 121 frames\n",
      "Loading movie with category Archery and 65 frames\n",
      "Loading movie with category ApplyLipstick and 99 frames\n",
      "Loading movie with category Archery and 169 frames\n",
      "Loading movie with category ApplyLipstick and 145 frames\n",
      "Loading movie with category Archery and 126 frames\n",
      "Loading movie with category Archery and 265 frames\n",
      "Loading movie with category ApplyEyeMakeup and 103 frames\n",
      "Loading movie with category Archery and 200 frames\n"
     ]
    },
    {
     "name": "stdout",
     "output_type": "stream",
     "text": [
      "torch.Size([10, 157, 512])\n",
      "Epoch [1/2], Step [2/50000], Loss: 1.2010\n"
     ]
    },
    {
     "name": "stderr",
     "output_type": "stream",
     "text": [
      "Loading movie with category ApplyLipstick and 194 frames\n",
      "Loading movie with category Archery and 195 frames\n",
      "Loading movie with category ApplyLipstick and 126 frames\n",
      "Loading movie with category ApplyEyeMakeup and 159 frames\n",
      "Loading movie with category ApplyEyeMakeup and 136 frames\n",
      "Loading movie with category ApplyLipstick and 263 frames\n",
      "Loading movie with category ApplyEyeMakeup and 233 frames\n",
      "Loading movie with category ApplyLipstick and 214 frames\n",
      "Loading movie with category Archery and 73 frames\n",
      "Loading movie with category ApplyEyeMakeup and 236 frames\n"
     ]
    },
    {
     "name": "stdout",
     "output_type": "stream",
     "text": [
      "torch.Size([10, 157, 512])\n",
      "Epoch [1/2], Step [3/50000], Loss: 1.0143\n"
     ]
    },
    {
     "name": "stderr",
     "output_type": "stream",
     "text": [
      "Loading movie with category ApplyEyeMakeup and 171 frames\n",
      "Loading movie with category ApplyLipstick and 142 frames\n",
      "Loading movie with category ApplyLipstick and 311 frames\n",
      "Loading movie with category ApplyEyeMakeup and 140 frames\n",
      "Loading movie with category ApplyEyeMakeup and 131 frames\n",
      "Loading movie with category Archery and 99 frames\n",
      "Loading movie with category ApplyLipstick and 248 frames\n",
      "Loading movie with category Archery and 221 frames\n",
      "Loading movie with category Archery and 398 frames\n",
      "Loading movie with category Archery and 185 frames\n"
     ]
    },
    {
     "name": "stdout",
     "output_type": "stream",
     "text": [
      "torch.Size([10, 157, 512])\n",
      "Epoch [1/2], Step [4/50000], Loss: 0.9442\n"
     ]
    },
    {
     "name": "stderr",
     "output_type": "stream",
     "text": [
      "Loading movie with category Archery and 121 frames\n",
      "Loading movie with category Archery and 203 frames\n",
      "Loading movie with category ApplyEyeMakeup and 188 frames\n",
      "Loading movie with category ApplyEyeMakeup and 234 frames\n",
      "Loading movie with category ApplyLipstick and 245 frames\n",
      "Loading movie with category ApplyEyeMakeup and 123 frames\n",
      "Loading movie with category Archery and 244 frames\n",
      "Loading movie with category ApplyLipstick and 90 frames\n",
      "Loading movie with category ApplyLipstick and 193 frames\n",
      "Loading movie with category Archery and 125 frames\n"
     ]
    },
    {
     "name": "stdout",
     "output_type": "stream",
     "text": [
      "torch.Size([10, 157, 512])\n",
      "Epoch [1/2], Step [5/50000], Loss: 0.6144\n"
     ]
    },
    {
     "name": "stderr",
     "output_type": "stream",
     "text": [
      "Loading movie with category Archery and 86 frames\n",
      "Loading movie with category ApplyEyeMakeup and 161 frames\n",
      "Loading movie with category Archery and 263 frames\n",
      "Loading movie with category Archery and 108 frames\n",
      "Loading movie with category ApplyEyeMakeup and 147 frames\n",
      "Loading movie with category ApplyEyeMakeup and 148 frames\n",
      "Loading movie with category ApplyEyeMakeup and 202 frames\n",
      "Loading movie with category Archery and 165 frames\n",
      "Loading movie with category Archery and 150 frames\n",
      "Loading movie with category ApplyEyeMakeup and 225 frames\n"
     ]
    },
    {
     "name": "stdout",
     "output_type": "stream",
     "text": [
      "torch.Size([10, 157, 512])\n",
      "Epoch [1/2], Step [6/50000], Loss: 1.4747\n"
     ]
    },
    {
     "name": "stderr",
     "output_type": "stream",
     "text": [
      "Loading movie with category ApplyLipstick and 135 frames\n",
      "Loading movie with category ApplyEyeMakeup and 107 frames\n",
      "Loading movie with category ApplyEyeMakeup and 116 frames\n",
      "Loading movie with category Archery and 130 frames\n",
      "Loading movie with category ApplyEyeMakeup and 147 frames\n",
      "Loading movie with category ApplyEyeMakeup and 186 frames\n",
      "Loading movie with category ApplyLipstick and 140 frames\n",
      "Loading movie with category ApplyLipstick and 109 frames\n",
      "Loading movie with category ApplyLipstick and 161 frames\n",
      "Loading movie with category ApplyEyeMakeup and 127 frames\n"
     ]
    },
    {
     "name": "stdout",
     "output_type": "stream",
     "text": [
      "torch.Size([10, 157, 512])\n",
      "Epoch [1/2], Step [7/50000], Loss: 1.9375\n"
     ]
    },
    {
     "name": "stderr",
     "output_type": "stream",
     "text": [
      "Loading movie with category ApplyEyeMakeup and 258 frames\n",
      "Loading movie with category Archery and 147 frames\n",
      "Loading movie with category ApplyEyeMakeup and 160 frames\n",
      "Loading movie with category Archery and 149 frames\n",
      "Loading movie with category Archery and 52 frames\n",
      "Loading movie with category Archery and 92 frames\n",
      "Loading movie with category ApplyLipstick and 211 frames\n",
      "Loading movie with category Archery and 226 frames\n",
      "Loading movie with category ApplyEyeMakeup and 183 frames\n",
      "Loading movie with category ApplyLipstick and 154 frames\n"
     ]
    },
    {
     "name": "stdout",
     "output_type": "stream",
     "text": [
      "torch.Size([10, 157, 512])\n",
      "Epoch [1/2], Step [8/50000], Loss: 0.6428\n"
     ]
    },
    {
     "name": "stderr",
     "output_type": "stream",
     "text": [
      "Loading movie with category ApplyLipstick and 219 frames\n",
      "Loading movie with category ApplyEyeMakeup and 171 frames\n",
      "Loading movie with category ApplyLipstick and 142 frames\n",
      "Loading movie with category ApplyEyeMakeup and 177 frames\n",
      "Loading movie with category ApplyEyeMakeup and 107 frames\n",
      "Loading movie with category ApplyLipstick and 155 frames\n",
      "Loading movie with category Archery and 116 frames\n",
      "Loading movie with category ApplyEyeMakeup and 125 frames\n",
      "Loading movie with category ApplyEyeMakeup and 132 frames\n",
      "Loading movie with category ApplyEyeMakeup and 210 frames\n"
     ]
    },
    {
     "name": "stdout",
     "output_type": "stream",
     "text": [
      "torch.Size([10, 157, 512])\n",
      "Epoch [1/2], Step [9/50000], Loss: 0.9476\n"
     ]
    },
    {
     "name": "stderr",
     "output_type": "stream",
     "text": [
      "Loading movie with category ApplyEyeMakeup and 182 frames\n",
      "Loading movie with category Archery and 132 frames\n",
      "Loading movie with category ApplyLipstick and 146 frames\n",
      "Loading movie with category ApplyEyeMakeup and 99 frames\n",
      "Loading movie with category ApplyLipstick and 157 frames\n",
      "Loading movie with category Archery and 95 frames\n",
      "Loading movie with category ApplyEyeMakeup and 132 frames\n",
      "Loading movie with category ApplyEyeMakeup and 169 frames\n",
      "Loading movie with category ApplyLipstick and 176 frames\n",
      "Loading movie with category Archery and 207 frames\n"
     ]
    },
    {
     "name": "stdout",
     "output_type": "stream",
     "text": [
      "torch.Size([10, 157, 512])\n",
      "Epoch [1/2], Step [10/50000], Loss: 1.0820\n"
     ]
    },
    {
     "name": "stderr",
     "output_type": "stream",
     "text": [
      "Loading movie with category ApplyLipstick and 137 frames\n",
      "Loading movie with category ApplyEyeMakeup and 223 frames\n",
      "Loading movie with category ApplyLipstick and 114 frames\n",
      "Loading movie with category Archery and 296 frames\n",
      "Loading movie with category ApplyLipstick and 310 frames\n",
      "Loading movie with category ApplyLipstick and 141 frames\n",
      "Loading movie with category ApplyEyeMakeup and 181 frames\n",
      "Loading movie with category Archery and 116 frames\n",
      "Loading movie with category ApplyEyeMakeup and 201 frames\n",
      "Loading movie with category ApplyLipstick and 151 frames\n"
     ]
    },
    {
     "name": "stdout",
     "output_type": "stream",
     "text": [
      "torch.Size([10, 157, 512])\n",
      "Epoch [1/2], Step [11/50000], Loss: 1.1283\n"
     ]
    },
    {
     "name": "stderr",
     "output_type": "stream",
     "text": [
      "Loading movie with category ApplyEyeMakeup and 242 frames\n",
      "Loading movie with category Archery and 558 frames\n",
      "Loading movie with category ApplyLipstick and 181 frames\n",
      "Loading movie with category ApplyLipstick and 155 frames\n",
      "Loading movie with category ApplyEyeMakeup and 121 frames\n",
      "Loading movie with category Archery and 204 frames\n",
      "Loading movie with category ApplyEyeMakeup and 124 frames\n",
      "Loading movie with category ApplyEyeMakeup and 114 frames\n",
      "Loading movie with category Archery and 161 frames\n",
      "Loading movie with category Archery and 119 frames\n"
     ]
    },
    {
     "name": "stdout",
     "output_type": "stream",
     "text": [
      "torch.Size([10, 157, 512])\n",
      "Epoch [1/2], Step [12/50000], Loss: 1.0806\n"
     ]
    },
    {
     "name": "stderr",
     "output_type": "stream",
     "text": [
      "Loading movie with category Archery and 93 frames\n",
      "Loading movie with category ApplyLipstick and 108 frames\n",
      "Loading movie with category Archery and 71 frames\n",
      "Loading movie with category ApplyEyeMakeup and 249 frames\n",
      "Loading movie with category Archery and 143 frames\n",
      "Loading movie with category Archery and 100 frames\n",
      "Loading movie with category ApplyEyeMakeup and 205 frames\n",
      "Loading movie with category Archery and 92 frames\n",
      "Loading movie with category Archery and 92 frames\n",
      "Loading movie with category ApplyLipstick and 172 frames\n"
     ]
    },
    {
     "name": "stdout",
     "output_type": "stream",
     "text": [
      "torch.Size([10, 157, 512])\n",
      "Epoch [1/2], Step [13/50000], Loss: 1.2893\n"
     ]
    },
    {
     "name": "stderr",
     "output_type": "stream",
     "text": [
      "Loading movie with category Archery and 141 frames\n",
      "Loading movie with category ApplyEyeMakeup and 154 frames\n",
      "Loading movie with category ApplyEyeMakeup and 182 frames\n",
      "Loading movie with category ApplyEyeMakeup and 165 frames\n",
      "Loading movie with category ApplyLipstick and 201 frames\n",
      "Loading movie with category ApplyEyeMakeup and 297 frames\n",
      "Loading movie with category ApplyEyeMakeup and 163 frames\n",
      "Loading movie with category ApplyLipstick and 114 frames\n",
      "Loading movie with category ApplyLipstick and 143 frames\n",
      "Loading movie with category Archery and 176 frames\n"
     ]
    },
    {
     "name": "stdout",
     "output_type": "stream",
     "text": [
      "torch.Size([10, 157, 512])\n",
      "Epoch [1/2], Step [14/50000], Loss: 0.9797\n"
     ]
    },
    {
     "name": "stderr",
     "output_type": "stream",
     "text": [
      "Loading movie with category ApplyLipstick and 288 frames\n",
      "Loading movie with category ApplyLipstick and 157 frames\n",
      "Loading movie with category ApplyEyeMakeup and 121 frames\n",
      "Loading movie with category ApplyEyeMakeup and 106 frames\n",
      "Loading movie with category Archery and 343 frames\n",
      "Loading movie with category ApplyLipstick and 112 frames\n",
      "Loading movie with category ApplyLipstick and 220 frames\n",
      "Loading movie with category ApplyEyeMakeup and 133 frames\n",
      "Loading movie with category ApplyEyeMakeup and 171 frames\n",
      "Loading movie with category Archery and 83 frames\n"
     ]
    },
    {
     "name": "stdout",
     "output_type": "stream",
     "text": [
      "torch.Size([10, 157, 512])\n",
      "Epoch [1/2], Step [15/50000], Loss: 1.0251\n"
     ]
    },
    {
     "name": "stderr",
     "output_type": "stream",
     "text": [
      "Loading movie with category Archery and 91 frames\n",
      "Loading movie with category ApplyLipstick and 166 frames\n",
      "Loading movie with category ApplyEyeMakeup and 209 frames\n",
      "Loading movie with category ApplyLipstick and 120 frames\n",
      "Loading movie with category ApplyLipstick and 144 frames\n",
      "Loading movie with category ApplyEyeMakeup and 269 frames\n",
      "Loading movie with category ApplyEyeMakeup and 139 frames\n",
      "Loading movie with category ApplyEyeMakeup and 135 frames\n",
      "Loading movie with category ApplyEyeMakeup and 262 frames\n",
      "Loading movie with category ApplyEyeMakeup and 260 frames\n"
     ]
    },
    {
     "name": "stdout",
     "output_type": "stream",
     "text": [
      "torch.Size([10, 157, 512])\n",
      "Epoch [1/2], Step [16/50000], Loss: 0.9728\n"
     ]
    },
    {
     "name": "stderr",
     "output_type": "stream",
     "text": [
      "Loading movie with category ApplyEyeMakeup and 183 frames\n",
      "Loading movie with category ApplyLipstick and 182 frames\n",
      "Loading movie with category ApplyLipstick and 169 frames\n",
      "Loading movie with category ApplyLipstick and 134 frames\n",
      "Loading movie with category ApplyLipstick and 177 frames\n",
      "Loading movie with category ApplyLipstick and 140 frames\n",
      "Loading movie with category ApplyEyeMakeup and 187 frames\n",
      "Loading movie with category ApplyEyeMakeup and 146 frames\n",
      "Loading movie with category ApplyLipstick and 157 frames\n",
      "Loading movie with category Archery and 81 frames\n"
     ]
    },
    {
     "name": "stdout",
     "output_type": "stream",
     "text": [
      "torch.Size([10, 157, 512])\n",
      "Epoch [1/2], Step [17/50000], Loss: 0.9628\n"
     ]
    },
    {
     "name": "stderr",
     "output_type": "stream",
     "text": [
      "Loading movie with category Archery and 170 frames\n",
      "Loading movie with category ApplyLipstick and 106 frames\n",
      "Loading movie with category Archery and 160 frames\n",
      "Loading movie with category ApplyLipstick and 142 frames\n",
      "Loading movie with category Archery and 161 frames\n",
      "Loading movie with category Archery and 138 frames\n",
      "Loading movie with category ApplyEyeMakeup and 120 frames\n",
      "Loading movie with category Archery and 175 frames\n",
      "Loading movie with category Archery and 125 frames\n",
      "Loading movie with category ApplyEyeMakeup and 221 frames\n"
     ]
    },
    {
     "name": "stdout",
     "output_type": "stream",
     "text": [
      "torch.Size([10, 157, 512])\n",
      "Epoch [1/2], Step [18/50000], Loss: 0.9727\n"
     ]
    },
    {
     "name": "stderr",
     "output_type": "stream",
     "text": [
      "Loading movie with category ApplyLipstick and 99 frames\n",
      "Loading movie with category ApplyLipstick and 152 frames\n",
      "Loading movie with category ApplyEyeMakeup and 101 frames\n",
      "Loading movie with category ApplyEyeMakeup and 244 frames\n",
      "Loading movie with category ApplyLipstick and 155 frames\n",
      "Loading movie with category ApplyEyeMakeup and 128 frames\n",
      "Loading movie with category Archery and 158 frames\n",
      "Loading movie with category Archery and 84 frames\n",
      "Loading movie with category ApplyEyeMakeup and 188 frames\n",
      "Loading movie with category Archery and 67 frames\n"
     ]
    },
    {
     "name": "stdout",
     "output_type": "stream",
     "text": [
      "torch.Size([10, 157, 512])\n",
      "Epoch [1/2], Step [19/50000], Loss: 0.8667\n"
     ]
    },
    {
     "name": "stderr",
     "output_type": "stream",
     "text": [
      "Loading movie with category Archery and 96 frames\n",
      "Loading movie with category ApplyLipstick and 107 frames\n",
      "Loading movie with category ApplyEyeMakeup and 159 frames\n",
      "Loading movie with category ApplyEyeMakeup and 91 frames\n",
      "Loading movie with category ApplyEyeMakeup and 259 frames\n",
      "Loading movie with category Archery and 168 frames\n",
      "Loading movie with category Archery and 456 frames\n",
      "Loading movie with category ApplyLipstick and 129 frames\n",
      "Loading movie with category Archery and 355 frames\n",
      "Loading movie with category Archery and 208 frames\n"
     ]
    },
    {
     "name": "stdout",
     "output_type": "stream",
     "text": [
      "torch.Size([10, 157, 512])\n",
      "Epoch [1/2], Step [20/50000], Loss: 0.8157\n"
     ]
    },
    {
     "name": "stderr",
     "output_type": "stream",
     "text": [
      "Loading movie with category ApplyLipstick and 524 frames\n",
      "Loading movie with category Archery and 109 frames\n",
      "Loading movie with category ApplyEyeMakeup and 126 frames\n",
      "Loading movie with category ApplyEyeMakeup and 225 frames\n",
      "Loading movie with category Archery and 292 frames\n",
      "Loading movie with category Archery and 86 frames\n",
      "Loading movie with category Archery and 131 frames\n",
      "Loading movie with category ApplyEyeMakeup and 126 frames\n",
      "Loading movie with category Archery and 95 frames\n",
      "Loading movie with category ApplyEyeMakeup and 282 frames\n"
     ]
    },
    {
     "name": "stdout",
     "output_type": "stream",
     "text": [
      "torch.Size([10, 157, 512])\n",
      "Epoch [1/2], Step [21/50000], Loss: 0.7477\n"
     ]
    },
    {
     "name": "stderr",
     "output_type": "stream",
     "text": [
      "Loading movie with category ApplyEyeMakeup and 183 frames\n",
      "Loading movie with category ApplyEyeMakeup and 140 frames\n",
      "Loading movie with category ApplyEyeMakeup and 121 frames\n",
      "Loading movie with category ApplyEyeMakeup and 158 frames\n",
      "Loading movie with category ApplyLipstick and 179 frames\n",
      "Loading movie with category Archery and 166 frames\n",
      "Loading movie with category ApplyEyeMakeup and 189 frames\n",
      "Loading movie with category Archery and 112 frames\n",
      "Loading movie with category ApplyEyeMakeup and 181 frames\n",
      "Loading movie with category ApplyLipstick and 89 frames\n"
     ]
    },
    {
     "name": "stdout",
     "output_type": "stream",
     "text": [
      "torch.Size([10, 157, 512])\n",
      "Epoch [1/2], Step [22/50000], Loss: 0.7585\n"
     ]
    },
    {
     "name": "stderr",
     "output_type": "stream",
     "text": [
      "Loading movie with category ApplyEyeMakeup and 192 frames\n",
      "Loading movie with category Archery and 117 frames\n",
      "Loading movie with category ApplyLipstick and 106 frames\n",
      "Loading movie with category ApplyLipstick and 152 frames\n",
      "Loading movie with category ApplyEyeMakeup and 195 frames\n",
      "Loading movie with category ApplyLipstick and 156 frames\n",
      "Loading movie with category ApplyLipstick and 178 frames\n",
      "Loading movie with category Archery and 367 frames\n",
      "Loading movie with category ApplyLipstick and 191 frames\n",
      "Loading movie with category ApplyEyeMakeup and 130 frames\n"
     ]
    },
    {
     "name": "stdout",
     "output_type": "stream",
     "text": [
      "torch.Size([10, 157, 512])\n",
      "Epoch [1/2], Step [23/50000], Loss: 0.7656\n"
     ]
    },
    {
     "name": "stderr",
     "output_type": "stream",
     "text": [
      "Loading movie with category Archery and 219 frames\n",
      "Loading movie with category ApplyEyeMakeup and 109 frames\n",
      "Loading movie with category ApplyEyeMakeup and 147 frames\n",
      "Loading movie with category ApplyLipstick and 161 frames\n",
      "Loading movie with category Archery and 106 frames\n",
      "Loading movie with category Archery and 177 frames\n",
      "Loading movie with category ApplyEyeMakeup and 99 frames\n",
      "Loading movie with category Archery and 158 frames\n",
      "Loading movie with category ApplyEyeMakeup and 244 frames\n",
      "Loading movie with category ApplyLipstick and 162 frames\n"
     ]
    },
    {
     "name": "stdout",
     "output_type": "stream",
     "text": [
      "torch.Size([10, 157, 512])\n",
      "Epoch [1/2], Step [24/50000], Loss: 0.6212\n"
     ]
    },
    {
     "name": "stderr",
     "output_type": "stream",
     "text": [
      "Loading movie with category ApplyLipstick and 248 frames\n",
      "Loading movie with category ApplyLipstick and 151 frames\n",
      "Loading movie with category ApplyLipstick and 211 frames\n",
      "Loading movie with category Archery and 111 frames\n",
      "Loading movie with category Archery and 436 frames\n",
      "Loading movie with category ApplyEyeMakeup and 141 frames\n",
      "Loading movie with category ApplyLipstick and 271 frames\n",
      "Loading movie with category ApplyLipstick and 322 frames\n",
      "Loading movie with category ApplyLipstick and 97 frames\n",
      "Loading movie with category ApplyEyeMakeup and 246 frames\n"
     ]
    },
    {
     "name": "stdout",
     "output_type": "stream",
     "text": [
      "torch.Size([10, 157, 512])\n",
      "Epoch [1/2], Step [25/50000], Loss: 0.7531\n"
     ]
    },
    {
     "name": "stderr",
     "output_type": "stream",
     "text": [
      "Loading movie with category ApplyEyeMakeup and 100 frames\n",
      "Loading movie with category Archery and 160 frames\n",
      "Loading movie with category Archery and 259 frames\n",
      "Loading movie with category Archery and 186 frames\n",
      "Loading movie with category ApplyEyeMakeup and 128 frames\n",
      "Loading movie with category ApplyLipstick and 199 frames\n",
      "Loading movie with category ApplyEyeMakeup and 115 frames\n",
      "Loading movie with category Archery and 206 frames\n",
      "Loading movie with category ApplyEyeMakeup and 198 frames\n",
      "Loading movie with category ApplyLipstick and 186 frames\n"
     ]
    },
    {
     "name": "stdout",
     "output_type": "stream",
     "text": [
      "torch.Size([10, 157, 512])\n",
      "Epoch [1/2], Step [26/50000], Loss: 0.5064\n"
     ]
    },
    {
     "name": "stderr",
     "output_type": "stream",
     "text": [
      "Loading movie with category ApplyEyeMakeup and 265 frames\n",
      "Loading movie with category ApplyEyeMakeup and 174 frames\n",
      "Loading movie with category ApplyLipstick and 461 frames\n",
      "Loading movie with category ApplyEyeMakeup and 126 frames\n",
      "Loading movie with category ApplyLipstick and 259 frames\n",
      "Loading movie with category Archery and 135 frames\n",
      "Loading movie with category Archery and 102 frames\n",
      "Loading movie with category ApplyEyeMakeup and 176 frames\n",
      "Loading movie with category Archery and 151 frames\n",
      "Loading movie with category ApplyLipstick and 174 frames\n"
     ]
    },
    {
     "name": "stdout",
     "output_type": "stream",
     "text": [
      "torch.Size([10, 157, 512])\n",
      "Epoch [1/2], Step [27/50000], Loss: 0.7035\n"
     ]
    },
    {
     "name": "stderr",
     "output_type": "stream",
     "text": [
      "Loading movie with category Archery and 188 frames\n",
      "Loading movie with category ApplyEyeMakeup and 127 frames\n",
      "Loading movie with category Archery and 69 frames\n",
      "Loading movie with category ApplyEyeMakeup and 142 frames\n",
      "Loading movie with category ApplyLipstick and 119 frames\n",
      "Loading movie with category ApplyLipstick and 178 frames\n",
      "Loading movie with category ApplyEyeMakeup and 170 frames\n",
      "Loading movie with category ApplyEyeMakeup and 147 frames\n",
      "Loading movie with category Archery and 135 frames\n",
      "Loading movie with category ApplyEyeMakeup and 169 frames\n"
     ]
    },
    {
     "name": "stdout",
     "output_type": "stream",
     "text": [
      "torch.Size([10, 157, 512])\n",
      "Epoch [1/2], Step [28/50000], Loss: 0.7933\n"
     ]
    },
    {
     "name": "stderr",
     "output_type": "stream",
     "text": [
      "Loading movie with category Archery and 127 frames\n",
      "Loading movie with category Archery and 139 frames\n",
      "Loading movie with category Archery and 74 frames\n",
      "Loading movie with category ApplyEyeMakeup and 94 frames\n",
      "Loading movie with category Archery and 326 frames\n",
      "Loading movie with category Archery and 140 frames\n",
      "Loading movie with category ApplyLipstick and 143 frames\n",
      "Loading movie with category ApplyEyeMakeup and 228 frames\n",
      "Loading movie with category ApplyEyeMakeup and 115 frames\n",
      "Loading movie with category ApplyLipstick and 149 frames\n"
     ]
    },
    {
     "name": "stdout",
     "output_type": "stream",
     "text": [
      "torch.Size([10, 157, 512])\n",
      "Epoch [1/2], Step [29/50000], Loss: 0.4436\n"
     ]
    },
    {
     "name": "stderr",
     "output_type": "stream",
     "text": [
      "Loading movie with category ApplyLipstick and 278 frames\n",
      "Loading movie with category ApplyLipstick and 161 frames\n",
      "Loading movie with category ApplyLipstick and 176 frames\n",
      "Loading movie with category ApplyLipstick and 271 frames\n",
      "Loading movie with category Archery and 152 frames\n",
      "Loading movie with category ApplyEyeMakeup and 194 frames\n",
      "Loading movie with category ApplyLipstick and 186 frames\n",
      "Loading movie with category ApplyLipstick and 214 frames\n",
      "Loading movie with category ApplyLipstick and 156 frames\n",
      "Loading movie with category ApplyEyeMakeup and 116 frames\n"
     ]
    },
    {
     "name": "stdout",
     "output_type": "stream",
     "text": [
      "torch.Size([10, 157, 512])\n",
      "Epoch [1/2], Step [30/50000], Loss: 0.7879\n"
     ]
    },
    {
     "name": "stderr",
     "output_type": "stream",
     "text": [
      "Loading movie with category Archery and 176 frames\n",
      "Loading movie with category ApplyLipstick and 158 frames\n",
      "Loading movie with category Archery and 100 frames\n",
      "Loading movie with category ApplyLipstick and 117 frames\n",
      "Loading movie with category ApplyEyeMakeup and 187 frames\n",
      "Loading movie with category Archery and 116 frames\n",
      "Loading movie with category ApplyEyeMakeup and 110 frames\n",
      "Loading movie with category ApplyEyeMakeup and 117 frames\n",
      "Loading movie with category ApplyEyeMakeup and 95 frames\n",
      "Loading movie with category ApplyEyeMakeup and 159 frames\n"
     ]
    },
    {
     "name": "stdout",
     "output_type": "stream",
     "text": [
      "torch.Size([10, 157, 512])\n",
      "Epoch [1/2], Step [31/50000], Loss: 0.6146\n"
     ]
    },
    {
     "name": "stderr",
     "output_type": "stream",
     "text": [
      "Loading movie with category Archery and 113 frames\n",
      "Loading movie with category Archery and 52 frames\n",
      "Loading movie with category ApplyLipstick and 104 frames\n",
      "Loading movie with category ApplyEyeMakeup and 228 frames\n",
      "Loading movie with category Archery and 165 frames\n",
      "Loading movie with category ApplyEyeMakeup and 178 frames\n",
      "Loading movie with category ApplyEyeMakeup and 121 frames\n",
      "Loading movie with category ApplyLipstick and 227 frames\n",
      "Loading movie with category ApplyLipstick and 212 frames\n",
      "Loading movie with category ApplyLipstick and 177 frames\n"
     ]
    },
    {
     "name": "stdout",
     "output_type": "stream",
     "text": [
      "torch.Size([10, 157, 512])\n",
      "Epoch [1/2], Step [32/50000], Loss: 0.5211\n"
     ]
    },
    {
     "name": "stderr",
     "output_type": "stream",
     "text": [
      "Loading movie with category ApplyEyeMakeup and 238 frames\n",
      "Loading movie with category ApplyLipstick and 170 frames\n",
      "Loading movie with category ApplyLipstick and 140 frames\n",
      "Loading movie with category ApplyLipstick and 109 frames\n",
      "Loading movie with category Archery and 108 frames\n",
      "Loading movie with category Archery and 194 frames\n",
      "Loading movie with category ApplyLipstick and 152 frames\n",
      "Loading movie with category Archery and 97 frames\n",
      "Loading movie with category ApplyEyeMakeup and 259 frames\n",
      "Loading movie with category Archery and 303 frames\n"
     ]
    },
    {
     "name": "stdout",
     "output_type": "stream",
     "text": [
      "torch.Size([10, 157, 512])\n",
      "Epoch [1/2], Step [33/50000], Loss: 0.5016\n"
     ]
    },
    {
     "name": "stderr",
     "output_type": "stream",
     "text": [
      "Loading movie with category ApplyLipstick and 165 frames\n",
      "Loading movie with category Archery and 131 frames\n",
      "Loading movie with category ApplyLipstick and 126 frames\n",
      "Loading movie with category ApplyEyeMakeup and 209 frames\n",
      "Loading movie with category ApplyLipstick and 132 frames\n",
      "Loading movie with category Archery and 87 frames\n",
      "Loading movie with category Archery and 197 frames\n",
      "Loading movie with category ApplyEyeMakeup and 118 frames\n",
      "Loading movie with category ApplyEyeMakeup and 134 frames\n",
      "Loading movie with category ApplyEyeMakeup and 168 frames\n"
     ]
    },
    {
     "name": "stdout",
     "output_type": "stream",
     "text": [
      "torch.Size([10, 157, 512])\n",
      "Epoch [1/2], Step [34/50000], Loss: 0.4342\n"
     ]
    },
    {
     "name": "stderr",
     "output_type": "stream",
     "text": [
      "Loading movie with category Archery and 124 frames\n",
      "Loading movie with category Archery and 52 frames\n",
      "Loading movie with category Archery and 167 frames\n",
      "Loading movie with category Archery and 173 frames\n",
      "Loading movie with category ApplyEyeMakeup and 227 frames\n",
      "Loading movie with category Archery and 363 frames\n",
      "Loading movie with category Archery and 111 frames\n",
      "Loading movie with category ApplyEyeMakeup and 133 frames\n",
      "Loading movie with category Archery and 245 frames\n",
      "Loading movie with category ApplyLipstick and 100 frames\n"
     ]
    },
    {
     "name": "stdout",
     "output_type": "stream",
     "text": [
      "torch.Size([10, 157, 512])\n",
      "Epoch [1/2], Step [35/50000], Loss: 0.2721\n"
     ]
    },
    {
     "name": "stderr",
     "output_type": "stream",
     "text": [
      "Loading movie with category Archery and 191 frames\n",
      "Loading movie with category Archery and 104 frames\n",
      "Loading movie with category Archery and 97 frames\n",
      "Loading movie with category ApplyLipstick and 250 frames\n",
      "Loading movie with category Archery and 176 frames\n",
      "Loading movie with category ApplyEyeMakeup and 96 frames\n",
      "Loading movie with category ApplyLipstick and 85 frames\n",
      "Loading movie with category ApplyEyeMakeup and 277 frames\n",
      "Loading movie with category Archery and 211 frames\n",
      "Loading movie with category ApplyLipstick and 370 frames\n"
     ]
    },
    {
     "name": "stdout",
     "output_type": "stream",
     "text": [
      "torch.Size([10, 157, 512])\n",
      "Epoch [1/2], Step [36/50000], Loss: 0.3539\n"
     ]
    },
    {
     "name": "stderr",
     "output_type": "stream",
     "text": [
      "Loading movie with category ApplyEyeMakeup and 126 frames\n",
      "Loading movie with category Archery and 92 frames\n",
      "Loading movie with category ApplyLipstick and 128 frames\n",
      "Loading movie with category ApplyEyeMakeup and 106 frames\n",
      "Loading movie with category ApplyEyeMakeup and 179 frames\n",
      "Loading movie with category ApplyEyeMakeup and 141 frames\n",
      "Loading movie with category ApplyEyeMakeup and 138 frames\n",
      "Loading movie with category ApplyEyeMakeup and 260 frames\n",
      "Loading movie with category ApplyLipstick and 175 frames\n",
      "Loading movie with category Archery and 140 frames\n"
     ]
    },
    {
     "name": "stdout",
     "output_type": "stream",
     "text": [
      "torch.Size([10, 157, 512])\n",
      "Epoch [1/2], Step [37/50000], Loss: 0.6518\n"
     ]
    },
    {
     "name": "stderr",
     "output_type": "stream",
     "text": [
      "Loading movie with category ApplyEyeMakeup and 213 frames\n",
      "Loading movie with category ApplyLipstick and 164 frames\n",
      "Loading movie with category Archery and 148 frames\n",
      "Loading movie with category Archery and 176 frames\n",
      "Loading movie with category ApplyLipstick and 143 frames\n",
      "Loading movie with category ApplyEyeMakeup and 171 frames\n",
      "Loading movie with category ApplyEyeMakeup and 236 frames\n",
      "Loading movie with category ApplyEyeMakeup and 143 frames\n",
      "Loading movie with category ApplyEyeMakeup and 99 frames\n",
      "Loading movie with category ApplyLipstick and 117 frames\n"
     ]
    },
    {
     "name": "stdout",
     "output_type": "stream",
     "text": [
      "torch.Size([10, 157, 512])\n",
      "Epoch [1/2], Step [38/50000], Loss: 0.4903\n"
     ]
    },
    {
     "name": "stderr",
     "output_type": "stream",
     "text": [
      "Loading movie with category ApplyEyeMakeup and 200 frames\n",
      "Loading movie with category ApplyEyeMakeup and 182 frames\n",
      "Loading movie with category ApplyLipstick and 118 frames\n",
      "Loading movie with category Archery and 66 frames\n",
      "Loading movie with category Archery and 489 frames\n",
      "Loading movie with category ApplyLipstick and 200 frames\n",
      "Loading movie with category Archery and 208 frames\n",
      "Loading movie with category ApplyLipstick and 218 frames\n"
     ]
    },
    {
     "name": "stdout",
     "output_type": "stream",
     "text": [
      "torch.Size([9, 157, 512])\n",
      "Epoch [1/2], Step [39/50000], Loss: 0.5211\n"
     ]
    },
    {
     "name": "stderr",
     "output_type": "stream",
     "text": [
      "Loading movie with category ApplyEyeMakeup and 171 frames\n",
      "Loading movie with category Archery and 102 frames\n",
      "Loading movie with category Archery and 367 frames\n",
      "Loading movie with category ApplyEyeMakeup and 179 frames\n",
      "Loading movie with category Archery and 211 frames\n",
      "Loading movie with category ApplyLipstick and 143 frames\n",
      "Loading movie with category ApplyEyeMakeup and 201 frames\n",
      "Loading movie with category Archery and 160 frames\n",
      "Loading movie with category Archery and 139 frames\n",
      "Loading movie with category Archery and 188 frames\n",
      "Loading movie with category ApplyLipstick and 106 frames\n"
     ]
    },
    {
     "name": "stdout",
     "output_type": "stream",
     "text": [
      "torch.Size([10, 157, 512])\n",
      "Epoch [2/2], Step [1/50000], Loss: 0.5662\n"
     ]
    },
    {
     "name": "stderr",
     "output_type": "stream",
     "text": [
      "Loading movie with category ApplyEyeMakeup and 262 frames\n",
      "Loading movie with category ApplyEyeMakeup and 141 frames\n",
      "Loading movie with category ApplyLipstick and 157 frames\n",
      "Loading movie with category ApplyLipstick and 157 frames\n",
      "Loading movie with category ApplyEyeMakeup and 182 frames\n",
      "Loading movie with category ApplyLipstick and 178 frames\n",
      "Loading movie with category ApplyEyeMakeup and 147 frames\n",
      "Loading movie with category ApplyLipstick and 155 frames\n",
      "Loading movie with category ApplyEyeMakeup and 228 frames\n",
      "Loading movie with category ApplyEyeMakeup and 194 frames\n"
     ]
    },
    {
     "name": "stdout",
     "output_type": "stream",
     "text": [
      "torch.Size([10, 157, 512])\n",
      "Epoch [2/2], Step [2/50000], Loss: 0.7260\n"
     ]
    },
    {
     "name": "stderr",
     "output_type": "stream",
     "text": [
      "Loading movie with category Archery and 92 frames\n",
      "Loading movie with category Archery and 143 frames\n",
      "Loading movie with category Archery and 197 frames\n",
      "Loading movie with category ApplyEyeMakeup and 121 frames\n",
      "Loading movie with category ApplyLipstick and 165 frames\n",
      "Loading movie with category ApplyLipstick and 259 frames\n",
      "Loading movie with category ApplyLipstick and 178 frames\n",
      "Loading movie with category ApplyEyeMakeup and 183 frames\n",
      "Loading movie with category ApplyLipstick and 211 frames\n",
      "Loading movie with category ApplyEyeMakeup and 136 frames\n"
     ]
    },
    {
     "name": "stdout",
     "output_type": "stream",
     "text": [
      "torch.Size([10, 157, 512])\n",
      "Epoch [2/2], Step [3/50000], Loss: 1.3516\n"
     ]
    },
    {
     "name": "stderr",
     "output_type": "stream",
     "text": [
      "Loading movie with category ApplyEyeMakeup and 101 frames\n",
      "Loading movie with category ApplyEyeMakeup and 147 frames\n",
      "Loading movie with category Archery and 71 frames\n",
      "Loading movie with category Archery and 116 frames\n",
      "Loading movie with category Archery and 73 frames\n",
      "Loading movie with category Archery and 97 frames\n",
      "Loading movie with category ApplyLipstick and 129 frames\n",
      "Loading movie with category ApplyLipstick and 524 frames\n",
      "Loading movie with category Archery and 52 frames\n",
      "Loading movie with category ApplyEyeMakeup and 139 frames\n"
     ]
    },
    {
     "name": "stdout",
     "output_type": "stream",
     "text": [
      "torch.Size([10, 157, 512])\n",
      "Epoch [2/2], Step [4/50000], Loss: 0.4333\n"
     ]
    },
    {
     "name": "stderr",
     "output_type": "stream",
     "text": [
      "Loading movie with category Archery and 191 frames\n",
      "Loading movie with category ApplyLipstick and 176 frames\n",
      "Loading movie with category Archery and 158 frames\n",
      "Loading movie with category ApplyLipstick and 117 frames\n",
      "Loading movie with category ApplyEyeMakeup and 118 frames\n",
      "Loading movie with category ApplyEyeMakeup and 163 frames\n",
      "Loading movie with category Archery and 95 frames\n",
      "Loading movie with category ApplyLipstick and 151 frames\n",
      "Loading movie with category ApplyLipstick and 214 frames\n",
      "Loading movie with category ApplyEyeMakeup and 146 frames\n"
     ]
    },
    {
     "name": "stdout",
     "output_type": "stream",
     "text": [
      "torch.Size([10, 157, 512])\n",
      "Epoch [2/2], Step [5/50000], Loss: 0.5304\n"
     ]
    },
    {
     "name": "stderr",
     "output_type": "stream",
     "text": [
      "Loading movie with category Archery and 92 frames\n",
      "Loading movie with category ApplyEyeMakeup and 259 frames\n",
      "Loading movie with category ApplyLipstick and 108 frames\n",
      "Loading movie with category Archery and 111 frames\n",
      "Loading movie with category ApplyLipstick and 118 frames\n",
      "Loading movie with category Archery and 140 frames\n",
      "Loading movie with category ApplyEyeMakeup and 140 frames\n",
      "Loading movie with category ApplyEyeMakeup and 121 frames\n",
      "Loading movie with category ApplyLipstick and 149 frames\n",
      "Loading movie with category ApplyLipstick and 140 frames\n"
     ]
    },
    {
     "name": "stdout",
     "output_type": "stream",
     "text": [
      "torch.Size([10, 157, 512])\n",
      "Epoch [2/2], Step [6/50000], Loss: 0.5185\n"
     ]
    },
    {
     "name": "stderr",
     "output_type": "stream",
     "text": [
      "Loading movie with category Archery and 52 frames\n",
      "Loading movie with category ApplyEyeMakeup and 198 frames\n",
      "Loading movie with category ApplyLipstick and 177 frames\n",
      "Loading movie with category Archery and 326 frames\n",
      "Loading movie with category Archery and 117 frames\n",
      "Loading movie with category ApplyEyeMakeup and 177 frames\n",
      "Loading movie with category ApplyLipstick and 219 frames\n",
      "Loading movie with category ApplyLipstick and 100 frames\n",
      "Loading movie with category Archery and 100 frames\n",
      "Loading movie with category Archery and 160 frames\n"
     ]
    },
    {
     "name": "stdout",
     "output_type": "stream",
     "text": [
      "torch.Size([10, 157, 512])\n",
      "Epoch [2/2], Step [7/50000], Loss: 0.5203\n"
     ]
    },
    {
     "name": "stderr",
     "output_type": "stream",
     "text": [
      "Loading movie with category Archery and 141 frames\n",
      "Loading movie with category ApplyEyeMakeup and 195 frames\n",
      "Loading movie with category ApplyEyeMakeup and 242 frames\n",
      "Loading movie with category Archery and 176 frames\n",
      "Loading movie with category ApplyLipstick and 310 frames\n",
      "Loading movie with category ApplyEyeMakeup and 133 frames\n",
      "Loading movie with category Archery and 166 frames\n",
      "Loading movie with category ApplyEyeMakeup and 182 frames\n",
      "Loading movie with category Archery and 116 frames\n",
      "Loading movie with category ApplyLipstick and 170 frames\n"
     ]
    },
    {
     "name": "stdout",
     "output_type": "stream",
     "text": [
      "torch.Size([10, 157, 512])\n",
      "Epoch [2/2], Step [8/50000], Loss: 0.3883\n"
     ]
    },
    {
     "name": "stderr",
     "output_type": "stream",
     "text": [
      "Loading movie with category ApplyEyeMakeup and 183 frames\n",
      "Loading movie with category Archery and 186 frames\n",
      "Loading movie with category ApplyEyeMakeup and 159 frames\n",
      "Loading movie with category ApplyEyeMakeup and 225 frames\n",
      "Loading movie with category ApplyEyeMakeup and 183 frames\n",
      "Loading movie with category ApplyEyeMakeup and 127 frames\n",
      "Loading movie with category ApplyLipstick and 177 frames\n",
      "Loading movie with category Archery and 92 frames\n",
      "Loading movie with category ApplyLipstick and 193 frames\n",
      "Loading movie with category Archery and 108 frames\n"
     ]
    },
    {
     "name": "stdout",
     "output_type": "stream",
     "text": [
      "torch.Size([10, 157, 512])\n",
      "Epoch [2/2], Step [9/50000], Loss: 1.2455\n"
     ]
    },
    {
     "name": "stderr",
     "output_type": "stream",
     "text": [
      "Loading movie with category ApplyEyeMakeup and 127 frames\n",
      "Loading movie with category Archery and 130 frames\n",
      "Loading movie with category Archery and 245 frames\n",
      "Loading movie with category ApplyLipstick and 179 frames\n",
      "Loading movie with category ApplyEyeMakeup and 170 frames\n",
      "Loading movie with category ApplyLipstick and 109 frames\n",
      "Loading movie with category ApplyEyeMakeup and 114 frames\n",
      "Loading movie with category ApplyEyeMakeup and 192 frames\n",
      "Loading movie with category ApplyEyeMakeup and 161 frames\n",
      "Loading movie with category ApplyEyeMakeup and 140 frames\n"
     ]
    },
    {
     "name": "stdout",
     "output_type": "stream",
     "text": [
      "torch.Size([10, 157, 512])\n",
      "Epoch [2/2], Step [10/50000], Loss: 0.5211\n"
     ]
    },
    {
     "name": "stderr",
     "output_type": "stream",
     "text": [
      "Loading movie with category ApplyEyeMakeup and 142 frames\n",
      "Loading movie with category ApplyEyeMakeup and 205 frames\n",
      "Loading movie with category ApplyEyeMakeup and 169 frames\n",
      "Loading movie with category Archery and 109 frames\n",
      "Loading movie with category ApplyEyeMakeup and 103 frames\n",
      "Loading movie with category ApplyLipstick and 99 frames\n",
      "Loading movie with category ApplyLipstick and 126 frames\n",
      "Loading movie with category ApplyEyeMakeup and 227 frames\n",
      "Loading movie with category ApplyLipstick and 90 frames\n",
      "Loading movie with category ApplyEyeMakeup and 169 frames\n"
     ]
    },
    {
     "name": "stdout",
     "output_type": "stream",
     "text": [
      "torch.Size([10, 157, 512])\n",
      "Epoch [2/2], Step [11/50000], Loss: 0.6465\n"
     ]
    },
    {
     "name": "stderr",
     "output_type": "stream",
     "text": [
      "Loading movie with category Archery and 170 frames\n",
      "Loading movie with category ApplyEyeMakeup and 260 frames\n",
      "Loading movie with category ApplyLipstick and 97 frames\n",
      "Loading movie with category Archery and 206 frames\n",
      "Loading movie with category ApplyLipstick and 128 frames\n",
      "Loading movie with category ApplyEyeMakeup and 138 frames\n",
      "Loading movie with category Archery and 558 frames\n",
      "Loading movie with category ApplyEyeMakeup and 115 frames\n",
      "Loading movie with category Archery and 112 frames\n",
      "Loading movie with category Archery and 99 frames\n"
     ]
    },
    {
     "name": "stdout",
     "output_type": "stream",
     "text": [
      "torch.Size([10, 157, 512])\n",
      "Epoch [2/2], Step [12/50000], Loss: 0.4891\n"
     ]
    },
    {
     "name": "stderr",
     "output_type": "stream",
     "text": [
      "Loading movie with category ApplyLipstick and 126 frames\n",
      "Loading movie with category ApplyEyeMakeup and 154 frames\n",
      "Loading movie with category Archery and 489 frames\n",
      "Loading movie with category ApplyLipstick and 142 frames\n",
      "Loading movie with category ApplyEyeMakeup and 124 frames\n",
      "Loading movie with category Archery and 131 frames\n",
      "Loading movie with category Archery and 135 frames\n",
      "Loading movie with category Archery and 226 frames\n",
      "Loading movie with category ApplyLipstick and 194 frames\n",
      "Loading movie with category ApplyEyeMakeup and 96 frames\n"
     ]
    },
    {
     "name": "stdout",
     "output_type": "stream",
     "text": [
      "torch.Size([10, 157, 512])\n",
      "Epoch [2/2], Step [13/50000], Loss: 0.8123\n"
     ]
    },
    {
     "name": "stderr",
     "output_type": "stream",
     "text": [
      "Loading movie with category ApplyLipstick and 214 frames\n",
      "Loading movie with category ApplyEyeMakeup and 165 frames\n",
      "Loading movie with category ApplyEyeMakeup and 265 frames\n",
      "Loading movie with category Archery and 208 frames\n",
      "Loading movie with category ApplyLipstick and 212 frames\n",
      "Loading movie with category ApplyEyeMakeup and 110 frames\n",
      "Loading movie with category Archery and 127 frames\n",
      "Loading movie with category ApplyLipstick and 152 frames\n",
      "Loading movie with category Archery and 244 frames\n",
      "Loading movie with category ApplyEyeMakeup and 171 frames\n"
     ]
    },
    {
     "name": "stdout",
     "output_type": "stream",
     "text": [
      "torch.Size([10, 157, 512])\n",
      "Epoch [2/2], Step [14/50000], Loss: 0.5602\n"
     ]
    },
    {
     "name": "stderr",
     "output_type": "stream",
     "text": [
      "Loading movie with category Archery and 195 frames\n",
      "Loading movie with category ApplyLipstick and 162 frames\n",
      "Loading movie with category Archery and 126 frames\n",
      "Loading movie with category Archery and 83 frames\n",
      "Loading movie with category Archery and 150 frames\n",
      "Loading movie with category Archery and 66 frames\n",
      "Loading movie with category ApplyLipstick and 169 frames\n",
      "Loading movie with category ApplyEyeMakeup and 236 frames\n",
      "Loading movie with category Archery and 221 frames\n",
      "Loading movie with category ApplyLipstick and 114 frames\n"
     ]
    },
    {
     "name": "stdout",
     "output_type": "stream",
     "text": [
      "torch.Size([10, 157, 512])\n",
      "Epoch [2/2], Step [15/50000], Loss: 0.5074\n"
     ]
    },
    {
     "name": "stderr",
     "output_type": "stream",
     "text": [
      "Loading movie with category ApplyLipstick and 120 frames\n",
      "Loading movie with category ApplyEyeMakeup and 160 frames\n",
      "Loading movie with category ApplyLipstick and 152 frames\n",
      "Loading movie with category Archery and 86 frames\n",
      "Loading movie with category ApplyEyeMakeup and 143 frames\n",
      "Loading movie with category ApplyEyeMakeup and 91 frames\n",
      "Loading movie with category ApplyEyeMakeup and 128 frames\n",
      "Loading movie with category ApplyEyeMakeup and 94 frames\n",
      "Loading movie with category ApplyLipstick and 109 frames\n",
      "Loading movie with category Archery and 161 frames\n"
     ]
    },
    {
     "name": "stdout",
     "output_type": "stream",
     "text": [
      "torch.Size([10, 157, 512])\n",
      "Epoch [2/2], Step [16/50000], Loss: 0.8157\n"
     ]
    },
    {
     "name": "stderr",
     "output_type": "stream",
     "text": [
      "Loading movie with category ApplyLipstick and 322 frames\n",
      "Loading movie with category Archery and 65 frames\n",
      "Loading movie with category ApplyLipstick and 278 frames\n",
      "Loading movie with category ApplyLipstick and 271 frames\n",
      "Loading movie with category ApplyLipstick and 201 frames\n",
      "Loading movie with category ApplyEyeMakeup and 117 frames\n",
      "Loading movie with category Archery and 203 frames\n",
      "Loading movie with category ApplyLipstick and 152 frames\n",
      "Loading movie with category ApplyLipstick and 176 frames\n",
      "Loading movie with category Archery and 132 frames\n"
     ]
    },
    {
     "name": "stdout",
     "output_type": "stream",
     "text": [
      "torch.Size([10, 157, 512])\n",
      "Epoch [2/2], Step [17/50000], Loss: 0.6355\n"
     ]
    },
    {
     "name": "stderr",
     "output_type": "stream",
     "text": [
      "Loading movie with category Archery and 292 frames\n",
      "Loading movie with category ApplyEyeMakeup and 107 frames\n",
      "Loading movie with category ApplyEyeMakeup and 99 frames\n",
      "Loading movie with category Archery and 151 frames\n",
      "Loading movie with category Archery and 124 frames\n",
      "Loading movie with category Archery and 194 frames\n",
      "Loading movie with category ApplyLipstick and 137 frames\n",
      "Loading movie with category ApplyLipstick and 161 frames\n",
      "Loading movie with category ApplyEyeMakeup and 228 frames\n",
      "Loading movie with category ApplyLipstick and 199 frames\n"
     ]
    },
    {
     "name": "stdout",
     "output_type": "stream",
     "text": [
      "torch.Size([10, 157, 512])\n",
      "Epoch [2/2], Step [18/50000], Loss: 0.3934\n"
     ]
    },
    {
     "name": "stderr",
     "output_type": "stream",
     "text": [
      "Loading movie with category ApplyEyeMakeup and 186 frames\n",
      "Loading movie with category Archery and 87 frames\n",
      "Loading movie with category ApplyEyeMakeup and 213 frames\n",
      "Loading movie with category ApplyEyeMakeup and 159 frames\n",
      "Loading movie with category ApplyLipstick and 161 frames\n",
      "Loading movie with category Archery and 176 frames\n",
      "Loading movie with category ApplyEyeMakeup and 153 frames\n",
      "Loading movie with category ApplyLipstick and 156 frames\n",
      "Loading movie with category ApplyEyeMakeup and 223 frames\n",
      "Loading movie with category ApplyEyeMakeup and 115 frames\n"
     ]
    },
    {
     "name": "stdout",
     "output_type": "stream",
     "text": [
      "torch.Size([10, 157, 512])\n",
      "Epoch [2/2], Step [19/50000], Loss: 0.5927\n"
     ]
    },
    {
     "name": "stderr",
     "output_type": "stream",
     "text": [
      "Loading movie with category ApplyEyeMakeup and 200 frames\n",
      "Loading movie with category ApplyLipstick and 142 frames\n",
      "Loading movie with category ApplyLipstick and 271 frames\n",
      "Loading movie with category ApplyEyeMakeup and 209 frames\n",
      "Loading movie with category ApplyEyeMakeup and 141 frames\n",
      "Loading movie with category ApplyEyeMakeup and 159 frames\n",
      "Loading movie with category Archery and 68 frames\n",
      "Loading movie with category ApplyLipstick and 191 frames\n",
      "Loading movie with category ApplyLipstick and 119 frames\n",
      "Loading movie with category Archery and 119 frames\n"
     ]
    },
    {
     "name": "stdout",
     "output_type": "stream",
     "text": [
      "torch.Size([10, 157, 512])\n",
      "Epoch [2/2], Step [20/50000], Loss: 0.6549\n"
     ]
    },
    {
     "name": "stderr",
     "output_type": "stream",
     "text": [
      "Loading movie with category Archery and 108 frames\n",
      "Loading movie with category Archery and 296 frames\n",
      "Loading movie with category ApplyLipstick and 158 frames\n",
      "Loading movie with category ApplyEyeMakeup and 115 frames\n",
      "Loading movie with category ApplyEyeMakeup and 258 frames\n",
      "Loading movie with category Archery and 259 frames\n",
      "Loading movie with category ApplyLipstick and 172 frames\n",
      "Loading movie with category Archery and 116 frames\n",
      "Loading movie with category ApplyEyeMakeup and 159 frames\n",
      "Loading movie with category Archery and 97 frames\n"
     ]
    },
    {
     "name": "stdout",
     "output_type": "stream",
     "text": [
      "torch.Size([10, 157, 512])\n",
      "Epoch [2/2], Step [21/50000], Loss: 0.3807\n"
     ]
    },
    {
     "name": "stderr",
     "output_type": "stream",
     "text": [
      "Loading movie with category ApplyLipstick and 151 frames\n",
      "Loading movie with category ApplyLipstick and 166 frames\n",
      "Loading movie with category Archery and 167 frames\n",
      "Loading movie with category ApplyLipstick and 143 frames\n",
      "Loading movie with category Archery and 165 frames\n",
      "Loading movie with category ApplyEyeMakeup and 187 frames\n",
      "Loading movie with category ApplyLipstick and 146 frames\n",
      "Loading movie with category Archery and 138 frames\n",
      "Loading movie with category ApplyEyeMakeup and 246 frames\n",
      "Loading movie with category ApplyEyeMakeup and 106 frames\n"
     ]
    },
    {
     "name": "stdout",
     "output_type": "stream",
     "text": [
      "torch.Size([10, 157, 512])\n",
      "Epoch [2/2], Step [22/50000], Loss: 0.4251\n"
     ]
    },
    {
     "name": "stderr",
     "output_type": "stream",
     "text": [
      "Loading movie with category ApplyLipstick and 220 frames\n",
      "Loading movie with category ApplyLipstick and 117 frames\n",
      "Loading movie with category ApplyLipstick and 245 frames\n",
      "Loading movie with category ApplyEyeMakeup and 188 frames\n",
      "Loading movie with category ApplyEyeMakeup and 249 frames\n",
      "Loading movie with category ApplyLipstick and 461 frames\n",
      "Loading movie with category Archery and 113 frames\n",
      "Loading movie with category Archery and 456 frames\n",
      "Loading movie with category Archery and 176 frames\n",
      "Loading movie with category ApplyEyeMakeup and 148 frames\n"
     ]
    },
    {
     "name": "stdout",
     "output_type": "stream",
     "text": [
      "torch.Size([10, 157, 512])\n",
      "Epoch [2/2], Step [23/50000], Loss: 0.4956\n"
     ]
    },
    {
     "name": "stderr",
     "output_type": "stream",
     "text": [
      "Loading movie with category ApplyEyeMakeup and 109 frames\n",
      "Loading movie with category ApplyLipstick and 186 frames\n",
      "Loading movie with category Archery and 436 frames\n",
      "Loading movie with category Archery and 86 frames\n",
      "Loading movie with category Archery and 175 frames\n",
      "Loading movie with category ApplyEyeMakeup and 195 frames\n",
      "Loading movie with category ApplyLipstick and 141 frames\n",
      "Loading movie with category ApplyEyeMakeup and 123 frames\n",
      "Loading movie with category Archery and 147 frames\n",
      "Loading movie with category ApplyEyeMakeup and 244 frames\n"
     ]
    },
    {
     "name": "stdout",
     "output_type": "stream",
     "text": [
      "torch.Size([10, 157, 512])\n",
      "Epoch [2/2], Step [24/50000], Loss: 0.4888\n"
     ]
    },
    {
     "name": "stderr",
     "output_type": "stream",
     "text": [
      "Loading movie with category ApplyEyeMakeup and 135 frames\n",
      "Loading movie with category ApplyEyeMakeup and 234 frames\n",
      "Loading movie with category ApplyLipstick and 112 frames\n",
      "Loading movie with category ApplyLipstick and 164 frames\n",
      "Loading movie with category ApplyEyeMakeup and 182 frames\n",
      "Loading movie with category ApplyEyeMakeup and 128 frames\n",
      "Loading movie with category ApplyEyeMakeup and 171 frames\n",
      "Loading movie with category ApplyEyeMakeup and 178 frames\n",
      "Loading movie with category ApplyLipstick and 248 frames\n",
      "Loading movie with category Archery and 173 frames\n"
     ]
    },
    {
     "name": "stdout",
     "output_type": "stream",
     "text": [
      "torch.Size([10, 157, 512])\n",
      "Epoch [2/2], Step [25/50000], Loss: 0.7972\n"
     ]
    },
    {
     "name": "stderr",
     "output_type": "stream",
     "text": [
      "Loading movie with category Archery and 125 frames\n",
      "Loading movie with category ApplyEyeMakeup and 260 frames\n",
      "Loading movie with category ApplyEyeMakeup and 244 frames\n",
      "Loading movie with category ApplyEyeMakeup and 225 frames\n",
      "Loading movie with category ApplyLipstick and 135 frames\n",
      "Loading movie with category ApplyLipstick and 155 frames\n",
      "Loading movie with category ApplyLipstick and 85 frames\n",
      "Loading movie with category ApplyEyeMakeup and 221 frames\n",
      "Loading movie with category Archery and 219 frames\n",
      "Loading movie with category ApplyEyeMakeup and 297 frames\n"
     ]
    },
    {
     "name": "stdout",
     "output_type": "stream",
     "text": [
      "torch.Size([10, 157, 512])\n",
      "Epoch [2/2], Step [26/50000], Loss: 0.5116\n"
     ]
    },
    {
     "name": "stderr",
     "output_type": "stream",
     "text": [
      "Loading movie with category ApplyEyeMakeup and 259 frames\n",
      "Loading movie with category Archery and 100 frames\n",
      "Loading movie with category ApplyEyeMakeup and 188 frames\n",
      "Loading movie with category ApplyEyeMakeup and 95 frames\n",
      "Loading movie with category Archery and 265 frames\n",
      "Loading movie with category ApplyEyeMakeup and 133 frames\n",
      "Loading movie with category ApplyEyeMakeup and 209 frames\n",
      "Loading movie with category ApplyEyeMakeup and 181 frames\n",
      "Loading movie with category ApplyEyeMakeup and 238 frames\n",
      "Loading movie with category Archery and 303 frames\n"
     ]
    },
    {
     "name": "stdout",
     "output_type": "stream",
     "text": [
      "torch.Size([10, 157, 512])\n",
      "Epoch [2/2], Step [27/50000], Loss: 0.5206\n"
     ]
    },
    {
     "name": "stderr",
     "output_type": "stream",
     "text": [
      "Loading movie with category ApplyEyeMakeup and 121 frames\n",
      "Loading movie with category ApplyEyeMakeup and 121 frames\n",
      "Loading movie with category ApplyEyeMakeup and 211 frames\n",
      "Loading movie with category Archery and 207 frames\n",
      "Loading movie with category ApplyEyeMakeup and 147 frames\n",
      "Loading movie with category ApplyLipstick and 211 frames\n",
      "Loading movie with category ApplyLipstick and 106 frames\n",
      "Loading movie with category Archery and 69 frames\n",
      "Loading movie with category ApplyEyeMakeup and 99 frames\n",
      "Loading movie with category ApplyLipstick and 182 frames\n"
     ]
    },
    {
     "name": "stdout",
     "output_type": "stream",
     "text": [
      "torch.Size([10, 157, 512])\n",
      "Epoch [2/2], Step [28/50000], Loss: 0.4541\n"
     ]
    },
    {
     "name": "stderr",
     "output_type": "stream",
     "text": [
      "Loading movie with category Archery and 91 frames\n",
      "Loading movie with category ApplyEyeMakeup and 116 frames\n",
      "Loading movie with category ApplyLipstick and 144 frames\n",
      "Loading movie with category ApplyLipstick and 140 frames\n",
      "Loading movie with category ApplyEyeMakeup and 100 frames\n",
      "Loading movie with category ApplyEyeMakeup and 130 frames\n",
      "Loading movie with category Archery and 125 frames\n",
      "Loading movie with category Archery and 158 frames\n",
      "Loading movie with category ApplyLipstick and 155 frames\n",
      "Loading movie with category ApplyLipstick and 132 frames\n"
     ]
    },
    {
     "name": "stdout",
     "output_type": "stream",
     "text": [
      "torch.Size([10, 157, 512])\n",
      "Epoch [2/2], Step [29/50000], Loss: 0.6239\n"
     ]
    },
    {
     "name": "stderr",
     "output_type": "stream",
     "text": [
      "Loading movie with category Archery and 169 frames\n",
      "Loading movie with category ApplyEyeMakeup and 134 frames\n",
      "Loading movie with category ApplyLipstick and 288 frames\n",
      "Loading movie with category ApplyLipstick and 142 frames\n",
      "Loading movie with category Archery and 161 frames\n",
      "Loading movie with category ApplyLipstick and 140 frames\n",
      "Loading movie with category ApplyEyeMakeup and 189 frames\n",
      "Loading movie with category ApplyLipstick and 143 frames\n",
      "Loading movie with category ApplyEyeMakeup and 131 frames\n",
      "Loading movie with category ApplyEyeMakeup and 277 frames\n"
     ]
    },
    {
     "name": "stdout",
     "output_type": "stream",
     "text": [
      "torch.Size([10, 157, 512])\n",
      "Epoch [2/2], Step [30/50000], Loss: 0.9952\n"
     ]
    },
    {
     "name": "stderr",
     "output_type": "stream",
     "text": [
      "Loading movie with category ApplyEyeMakeup and 282 frames\n",
      "Loading movie with category ApplyEyeMakeup and 132 frames\n",
      "Loading movie with category ApplyEyeMakeup and 147 frames\n",
      "Loading movie with category Archery and 186 frames\n",
      "Loading movie with category ApplyEyeMakeup and 158 frames\n",
      "Loading movie with category ApplyLipstick and 134 frames\n",
      "Loading movie with category Archery and 81 frames\n",
      "Loading movie with category Archery and 165 frames\n",
      "Loading movie with category ApplyEyeMakeup and 174 frames\n",
      "Loading movie with category ApplyLipstick and 114 frames\n"
     ]
    },
    {
     "name": "stdout",
     "output_type": "stream",
     "text": [
      "torch.Size([10, 157, 512])\n",
      "Epoch [2/2], Step [31/50000], Loss: 0.3240\n"
     ]
    },
    {
     "name": "stderr",
     "output_type": "stream",
     "text": [
      "Loading movie with category ApplyEyeMakeup and 269 frames\n",
      "Loading movie with category Archery and 176 frames\n",
      "Loading movie with category Archery and 111 frames\n",
      "Loading movie with category ApplyLipstick and 107 frames\n",
      "Loading movie with category ApplyLipstick and 161 frames\n",
      "Loading movie with category ApplyLipstick and 218 frames\n",
      "Loading movie with category ApplyEyeMakeup and 168 frames\n",
      "Loading movie with category ApplyEyeMakeup and 99 frames\n",
      "Loading movie with category ApplyEyeMakeup and 171 frames\n",
      "Loading movie with category ApplyLipstick and 89 frames\n"
     ]
    },
    {
     "name": "stdout",
     "output_type": "stream",
     "text": [
      "torch.Size([10, 157, 512])\n",
      "Epoch [2/2], Step [32/50000], Loss: 0.6798\n"
     ]
    },
    {
     "name": "stderr",
     "output_type": "stream",
     "text": [
      "Loading movie with category ApplyLipstick and 157 frames\n",
      "Loading movie with category Archery and 96 frames\n",
      "Loading movie with category ApplyEyeMakeup and 187 frames\n",
      "Loading movie with category Archery and 208 frames\n",
      "Loading movie with category ApplyEyeMakeup and 132 frames\n",
      "Loading movie with category ApplyLipstick and 156 frames\n",
      "Loading movie with category ApplyEyeMakeup and 217 frames\n",
      "Loading movie with category Archery and 263 frames\n",
      "Loading movie with category ApplyLipstick and 248 frames\n",
      "Loading movie with category ApplyLipstick and 104 frames\n"
     ]
    },
    {
     "name": "stdout",
     "output_type": "stream",
     "text": [
      "torch.Size([10, 157, 512])\n",
      "Epoch [2/2], Step [33/50000], Loss: 0.6379\n"
     ]
    },
    {
     "name": "stderr",
     "output_type": "stream",
     "text": [
      "Loading movie with category ApplyEyeMakeup and 107 frames\n",
      "Loading movie with category ApplyEyeMakeup and 120 frames\n",
      "Loading movie with category Archery and 140 frames\n",
      "Loading movie with category Archery and 74 frames\n",
      "Loading movie with category Archery and 200 frames\n",
      "Loading movie with category Archery and 142 frames\n",
      "Loading movie with category Archery and 204 frames\n",
      "Loading movie with category Archery and 121 frames\n",
      "Loading movie with category Archery and 67 frames\n",
      "Loading movie with category ApplyEyeMakeup and 236 frames\n"
     ]
    },
    {
     "name": "stdout",
     "output_type": "stream",
     "text": [
      "torch.Size([10, 157, 512])\n",
      "Epoch [2/2], Step [34/50000], Loss: 0.2042\n"
     ]
    },
    {
     "name": "stderr",
     "output_type": "stream",
     "text": [
      "Loading movie with category ApplyLipstick and 174 frames\n",
      "Loading movie with category ApplyLipstick and 311 frames\n",
      "Loading movie with category ApplyEyeMakeup and 181 frames\n",
      "Loading movie with category ApplyEyeMakeup and 209 frames\n",
      "Loading movie with category ApplyEyeMakeup and 210 frames\n",
      "Loading movie with category Archery and 149 frames\n",
      "Loading movie with category ApplyLipstick and 263 frames\n",
      "Loading movie with category Archery and 355 frames\n",
      "Loading movie with category ApplyEyeMakeup and 233 frames\n",
      "Loading movie with category ApplyEyeMakeup and 126 frames\n"
     ]
    },
    {
     "name": "stdout",
     "output_type": "stream",
     "text": [
      "torch.Size([10, 157, 512])\n",
      "Epoch [2/2], Step [35/50000], Loss: 0.5746\n"
     ]
    },
    {
     "name": "stderr",
     "output_type": "stream",
     "text": [
      "Loading movie with category ApplyEyeMakeup and 126 frames\n",
      "Loading movie with category ApplyEyeMakeup and 106 frames\n",
      "Loading movie with category Archery and 92 frames\n",
      "Loading movie with category Archery and 148 frames\n",
      "Loading movie with category ApplyLipstick and 145 frames\n",
      "Loading movie with category ApplyLipstick and 121 frames\n",
      "Loading movie with category Archery and 131 frames\n"
     ]
    },
    {
     "ename": "KeyboardInterrupt",
     "evalue": "",
     "output_type": "error",
     "traceback": [
      "\u001b[0;31m---------------------------------------------------------------------------\u001b[0m",
      "\u001b[0;31mKeyboardInterrupt\u001b[0m                         Traceback (most recent call last)",
      "\u001b[0;32m<ipython-input-43-a72cc3672389>\u001b[0m in \u001b[0;36m<module>\u001b[0;34m()\u001b[0m\n\u001b[1;32m      1\u001b[0m \u001b[0;32mfor\u001b[0m \u001b[0mepoch\u001b[0m \u001b[0;32min\u001b[0m \u001b[0mrange\u001b[0m\u001b[0;34m(\u001b[0m\u001b[0mnum_epochs\u001b[0m\u001b[0;34m)\u001b[0m\u001b[0;34m:\u001b[0m\u001b[0;34m\u001b[0m\u001b[0m\n\u001b[0;32m----> 2\u001b[0;31m     \u001b[0;32mfor\u001b[0m \u001b[0mi\u001b[0m\u001b[0;34m,\u001b[0m \u001b[0;34m(\u001b[0m\u001b[0mlabels\u001b[0m\u001b[0;34m,\u001b[0m \u001b[0mimages\u001b[0m\u001b[0;34m)\u001b[0m \u001b[0;32min\u001b[0m \u001b[0menumerate\u001b[0m\u001b[0;34m(\u001b[0m\u001b[0mget_features\u001b[0m\u001b[0;34m(\u001b[0m\u001b[0min_dir\u001b[0m\u001b[0;34m=\u001b[0m\u001b[0;34m'data/data_subset/'\u001b[0m\u001b[0;34m,\u001b[0m \u001b[0mbatch_size\u001b[0m\u001b[0;34m=\u001b[0m\u001b[0;36m10\u001b[0m\u001b[0;34m)\u001b[0m\u001b[0;34m)\u001b[0m\u001b[0;34m:\u001b[0m\u001b[0;34m\u001b[0m\u001b[0m\n\u001b[0m\u001b[1;32m      3\u001b[0m         \u001b[0mprint\u001b[0m \u001b[0;34m(\u001b[0m\u001b[0mimages\u001b[0m\u001b[0;34m.\u001b[0m\u001b[0msize\u001b[0m\u001b[0;34m(\u001b[0m\u001b[0;34m)\u001b[0m\u001b[0;34m)\u001b[0m\u001b[0;34m\u001b[0m\u001b[0m\n\u001b[1;32m      4\u001b[0m         \u001b[0mlabels\u001b[0m \u001b[0;34m=\u001b[0m \u001b[0mtorch\u001b[0m\u001b[0;34m.\u001b[0m\u001b[0mLongTensor\u001b[0m\u001b[0;34m(\u001b[0m\u001b[0;34m[\u001b[0m\u001b[0mlabel_str_to_int\u001b[0m\u001b[0;34m[\u001b[0m\u001b[0mi\u001b[0m\u001b[0;34m]\u001b[0m \u001b[0;32mfor\u001b[0m \u001b[0mi\u001b[0m \u001b[0;32min\u001b[0m \u001b[0mlabels\u001b[0m\u001b[0;34m]\u001b[0m\u001b[0;34m)\u001b[0m\u001b[0;34m.\u001b[0m\u001b[0mcuda\u001b[0m\u001b[0;34m(\u001b[0m\u001b[0;34m)\u001b[0m\u001b[0;34m\u001b[0m\u001b[0m\n\u001b[1;32m      5\u001b[0m \u001b[0;34m\u001b[0m\u001b[0m\n",
      "\u001b[0;32m/home/nimy/project/obj_detector/extractor.py\u001b[0m in \u001b[0;36mget_features\u001b[0;34m(in_dir, batch_size)\u001b[0m\n\u001b[1;32m    106\u001b[0m             \u001b[0;32mfor\u001b[0m \u001b[0mframe\u001b[0m \u001b[0;32min\u001b[0m \u001b[0mselect_center\u001b[0m\u001b[0;34m(\u001b[0m\u001b[0mframes\u001b[0m\u001b[0;34m,\u001b[0m \u001b[0mframes_median\u001b[0m\u001b[0;34m)\u001b[0m\u001b[0;34m:\u001b[0m\u001b[0;34m\u001b[0m\u001b[0m\n\u001b[1;32m    107\u001b[0m                 \u001b[0mimg\u001b[0m \u001b[0;34m=\u001b[0m \u001b[0mImage\u001b[0m\u001b[0;34m.\u001b[0m\u001b[0mopen\u001b[0m\u001b[0;34m(\u001b[0m\u001b[0mframe\u001b[0m\u001b[0;34m)\u001b[0m\u001b[0;34m\u001b[0m\u001b[0m\n\u001b[0;32m--> 108\u001b[0;31m                 \u001b[0minputs\u001b[0m\u001b[0;34m.\u001b[0m\u001b[0mappend\u001b[0m\u001b[0;34m(\u001b[0m\u001b[0mdata_transforms\u001b[0m\u001b[0;34m(\u001b[0m\u001b[0mimg\u001b[0m\u001b[0;34m)\u001b[0m\u001b[0;34m.\u001b[0m\u001b[0munsqueeze\u001b[0m\u001b[0;34m(\u001b[0m\u001b[0;36m0\u001b[0m\u001b[0;34m)\u001b[0m\u001b[0;34m)\u001b[0m\u001b[0;34m\u001b[0m\u001b[0m\n\u001b[0m\u001b[1;32m    109\u001b[0m \u001b[0;34m\u001b[0m\u001b[0m\n\u001b[1;32m    110\u001b[0m             \u001b[0;32mif\u001b[0m \u001b[0;32mnot\u001b[0m \u001b[0minputs\u001b[0m\u001b[0;34m:\u001b[0m\u001b[0;34m\u001b[0m\u001b[0m\n",
      "\u001b[0;32m/usr/local/lib/python3.5/dist-packages/torchvision/transforms.py\u001b[0m in \u001b[0;36m__call__\u001b[0;34m(self, img)\u001b[0m\n\u001b[1;32m     27\u001b[0m     \u001b[0;32mdef\u001b[0m \u001b[0m__call__\u001b[0m\u001b[0;34m(\u001b[0m\u001b[0mself\u001b[0m\u001b[0;34m,\u001b[0m \u001b[0mimg\u001b[0m\u001b[0;34m)\u001b[0m\u001b[0;34m:\u001b[0m\u001b[0;34m\u001b[0m\u001b[0m\n\u001b[1;32m     28\u001b[0m         \u001b[0;32mfor\u001b[0m \u001b[0mt\u001b[0m \u001b[0;32min\u001b[0m \u001b[0mself\u001b[0m\u001b[0;34m.\u001b[0m\u001b[0mtransforms\u001b[0m\u001b[0;34m:\u001b[0m\u001b[0;34m\u001b[0m\u001b[0m\n\u001b[0;32m---> 29\u001b[0;31m             \u001b[0mimg\u001b[0m \u001b[0;34m=\u001b[0m \u001b[0mt\u001b[0m\u001b[0;34m(\u001b[0m\u001b[0mimg\u001b[0m\u001b[0;34m)\u001b[0m\u001b[0;34m\u001b[0m\u001b[0m\n\u001b[0m\u001b[1;32m     30\u001b[0m         \u001b[0;32mreturn\u001b[0m \u001b[0mimg\u001b[0m\u001b[0;34m\u001b[0m\u001b[0m\n\u001b[1;32m     31\u001b[0m \u001b[0;34m\u001b[0m\u001b[0m\n",
      "\u001b[0;32m/usr/local/lib/python3.5/dist-packages/torchvision/transforms.py\u001b[0m in \u001b[0;36m__call__\u001b[0;34m(self, img)\u001b[0m\n\u001b[1;32m    138\u001b[0m             \u001b[0moh\u001b[0m \u001b[0;34m=\u001b[0m \u001b[0mself\u001b[0m\u001b[0;34m.\u001b[0m\u001b[0msize\u001b[0m\u001b[0;34m\u001b[0m\u001b[0m\n\u001b[1;32m    139\u001b[0m             \u001b[0mow\u001b[0m \u001b[0;34m=\u001b[0m \u001b[0mint\u001b[0m\u001b[0;34m(\u001b[0m\u001b[0mself\u001b[0m\u001b[0;34m.\u001b[0m\u001b[0msize\u001b[0m \u001b[0;34m*\u001b[0m \u001b[0mw\u001b[0m \u001b[0;34m/\u001b[0m \u001b[0mh\u001b[0m\u001b[0;34m)\u001b[0m\u001b[0;34m\u001b[0m\u001b[0m\n\u001b[0;32m--> 140\u001b[0;31m             \u001b[0;32mreturn\u001b[0m \u001b[0mimg\u001b[0m\u001b[0;34m.\u001b[0m\u001b[0mresize\u001b[0m\u001b[0;34m(\u001b[0m\u001b[0;34m(\u001b[0m\u001b[0mow\u001b[0m\u001b[0;34m,\u001b[0m \u001b[0moh\u001b[0m\u001b[0;34m)\u001b[0m\u001b[0;34m,\u001b[0m \u001b[0mself\u001b[0m\u001b[0;34m.\u001b[0m\u001b[0minterpolation\u001b[0m\u001b[0;34m)\u001b[0m\u001b[0;34m\u001b[0m\u001b[0m\n\u001b[0m\u001b[1;32m    141\u001b[0m \u001b[0;34m\u001b[0m\u001b[0m\n\u001b[1;32m    142\u001b[0m \u001b[0;34m\u001b[0m\u001b[0m\n",
      "\u001b[0;32m/usr/local/lib/python3.5/dist-packages/PIL/Image.py\u001b[0m in \u001b[0;36mresize\u001b[0;34m(self, size, resample)\u001b[0m\n\u001b[1;32m   1628\u001b[0m             \u001b[0;32mraise\u001b[0m \u001b[0mValueError\u001b[0m\u001b[0;34m(\u001b[0m\u001b[0;34m\"unknown resampling filter\"\u001b[0m\u001b[0;34m)\u001b[0m\u001b[0;34m\u001b[0m\u001b[0m\n\u001b[1;32m   1629\u001b[0m \u001b[0;34m\u001b[0m\u001b[0m\n\u001b[0;32m-> 1630\u001b[0;31m         \u001b[0mself\u001b[0m\u001b[0;34m.\u001b[0m\u001b[0mload\u001b[0m\u001b[0;34m(\u001b[0m\u001b[0;34m)\u001b[0m\u001b[0;34m\u001b[0m\u001b[0m\n\u001b[0m\u001b[1;32m   1631\u001b[0m \u001b[0;34m\u001b[0m\u001b[0m\n\u001b[1;32m   1632\u001b[0m         \u001b[0msize\u001b[0m \u001b[0;34m=\u001b[0m \u001b[0mtuple\u001b[0m\u001b[0;34m(\u001b[0m\u001b[0msize\u001b[0m\u001b[0;34m)\u001b[0m\u001b[0;34m\u001b[0m\u001b[0m\n",
      "\u001b[0;32m/usr/local/lib/python3.5/dist-packages/PIL/ImageFile.py\u001b[0m in \u001b[0;36mload\u001b[0;34m(self)\u001b[0m\n\u001b[1;32m    232\u001b[0m \u001b[0;34m\u001b[0m\u001b[0m\n\u001b[1;32m    233\u001b[0m                         \u001b[0mb\u001b[0m \u001b[0;34m=\u001b[0m \u001b[0mb\u001b[0m \u001b[0;34m+\u001b[0m \u001b[0ms\u001b[0m\u001b[0;34m\u001b[0m\u001b[0m\n\u001b[0;32m--> 234\u001b[0;31m                         \u001b[0mn\u001b[0m\u001b[0;34m,\u001b[0m \u001b[0merr_code\u001b[0m \u001b[0;34m=\u001b[0m \u001b[0mdecoder\u001b[0m\u001b[0;34m.\u001b[0m\u001b[0mdecode\u001b[0m\u001b[0;34m(\u001b[0m\u001b[0mb\u001b[0m\u001b[0;34m)\u001b[0m\u001b[0;34m\u001b[0m\u001b[0m\n\u001b[0m\u001b[1;32m    235\u001b[0m                         \u001b[0;32mif\u001b[0m \u001b[0mn\u001b[0m \u001b[0;34m<\u001b[0m \u001b[0;36m0\u001b[0m\u001b[0;34m:\u001b[0m\u001b[0;34m\u001b[0m\u001b[0m\n\u001b[1;32m    236\u001b[0m                             \u001b[0;32mbreak\u001b[0m\u001b[0;34m\u001b[0m\u001b[0m\n",
      "\u001b[0;31mKeyboardInterrupt\u001b[0m: "
     ]
    }
   ],
   "source": [
    "# for epoch in range(num_epochs):\n",
    "#     for i, (labels, images) in enumerate(get_features(in_dir='data/data_subset/', batch_size=10)):\n",
    "#         print (images.size())\n",
    "#         labels = torch.LongTensor([label_str_to_int[i] for i in labels]).cuda()\n",
    "        \n",
    "# #         print (type(images), type(labels))\n",
    "# #         print (images)\n",
    "# #         print(labels)\n",
    "\n",
    "#         images = Variable(images.view(-1, sequence_length, input_size).cuda())\n",
    "#         labels = Variable(labels.view(-1).cuda())\n",
    "\n",
    "#         # Forward + Backward + Optimize\n",
    "#         optimizer.zero_grad()\n",
    "#         outputs = rnn(images)\n",
    "\n",
    "#         loss = criterion(outputs, labels)\n",
    "#         loss.backward()\n",
    "#         optimizer.step()\n",
    "        \n",
    "#         if (i+1) % 1 == 0:\n",
    "#             print ('Epoch [%d/%d], Step [%d/%d], Loss: %.4f' %(epoch+1, num_epochs, i+1, 100000//batch_size, loss.data[0]))\n"
   ]
  },
  {
   "cell_type": "code",
   "execution_count": 45,
   "metadata": {
    "collapsed": true
   },
   "outputs": [],
   "source": [
    "def exp_lr_scheduler(optimizer, epoch, init_lr=0.001, lr_decay_epoch=7):\n",
    "    \"\"\"Decay learning rate by a factor of 0.1 every lr_decay_epoch epochs.\"\"\"\n",
    "    lr = init_lr * (0.1**(epoch // lr_decay_epoch))\n",
    "\n",
    "    if epoch % lr_decay_epoch == 0:\n",
    "        print('LR is set to {}'.format(lr))\n",
    "\n",
    "    for param_group in optimizer.param_groups:\n",
    "        param_group['lr'] = lr\n",
    "\n",
    "    return optimizer\n"
   ]
  },
  {
   "cell_type": "code",
   "execution_count": 50,
   "metadata": {},
   "outputs": [],
   "source": [
    "def check_size(address, sequence_size=50):\n",
    "    x = np.load(address)\n",
    "    print (x.shape)\n",
    "    if x.shape[0] < sequence_size:\n",
    "        return np.concatenate((x, np.zeros((sequence_size - x.shape[0], x.shape[1]))), axis=0)\n",
    "    return x\n",
    "\n",
    "# Data Loader (Input Pipeline)\n",
    "def get_loader(path=''):\n",
    "    \"\"\"\n",
    "    Function reads .npy files from path.\n",
    "    Returns:\n",
    "        dataloader, data classes (list), size of input object [n_sequence, n_features], lenght_of_dataset\n",
    "    \"\"\"\n",
    "    inputs = []\n",
    "    targets = []\n",
    "    data_classes = os.listdir(path)\n",
    "    label_int = 0\n",
    "    for folder in data_classes:\n",
    "        current_dir = path + '/' + folder + '/'\n",
    "        \n",
    "        temp = [torch.Tensor(np.load(current_dir +  f)) for f in os.listdir(current_dir)] \n",
    "                         # Transform to torch tensors\n",
    "        \n",
    "        targets += ([torch.LongTensor([label_int])] * len(temp))\n",
    "        inputs += temp\n",
    "        \n",
    "        label_int += 1\n",
    "        \n",
    "    tensor_x = torch.stack(inputs)\n",
    "    tensor_y = torch.stack(targets)\n",
    "    my_dataset = torch.utils.data.TensorDataset(tensor_x, tensor_y)  # Create your datset\n",
    "    my_dataloader = torch.utils.data.DataLoader(my_dataset, batch_size=batch_size, shuffle=True)  # Create your dataloader\n",
    "    \n",
    "    \n",
    "    return (my_dataloader, data_classes)\n",
    "\n",
    "# dset_loaders = {x: get_loader('Features/' + x)[0] for x in ['train', 'val']}"
   ]
  },
  {
   "cell_type": "code",
   "execution_count": null,
   "metadata": {
    "collapsed": true
   },
   "outputs": [],
   "source": [
    "def train_model(model, criterion, optimizer, lr_scheduler, path, num_epochs=200, model_name='lstm'):\n",
    "    since = time.time()\n",
    "\n",
    "    best_model = model\n",
    "    best_acc = 0.0\n",
    "\n",
    "    for epoch in range(num_epochs):\n",
    "        print('Epoch {}/{}'.format(epoch, num_epochs - 1))\n",
    "        print('-' * 10)\n",
    "\n",
    "        # Each epoch has a training and validation phase\n",
    "        for phase in ['train', 'val']:\n",
    "            if phase == 'train':\n",
    "                optimizer = lr_scheduler(optimizer, epoch)\n",
    "                model.train(True)  # Set model to training mode\n",
    "            else:\n",
    "                model.train(False)  # Set model to evaluate mode\n",
    "\n",
    "            running_loss = 0.0\n",
    "            running_corrects = 0\n",
    "\n",
    "            # Iterate over data.\n",
    "            for data in dset_loaders[phase]:\n",
    "                # get the inputs\n",
    "                \n",
    "                inputs, labels = data\n",
    "\n",
    "                # wrap them in Variable\n",
    "                if use_gpu:\n",
    "                    inputs, labels = Variable(inputs.cuda()), \\\n",
    "                        Variable(labels.cuda())\n",
    "                else:\n",
    "                    inputs, labels = Variable(inputs), Variable(labels)\n",
    "\n",
    "                # zero the parameter gradients\n",
    "                optimizer.zero_grad()\n",
    "\n",
    "                # forward\n",
    "                outputs = model(inputs)\n",
    "                _, preds = torch.max(outputs.data, 1)\n",
    "                loss = criterion(outputs, labels)\n",
    "\n",
    "                # backward + optimize only if in training phase\n",
    "                if phase == 'train':\n",
    "                    loss.backward()\n",
    "                    optimizer.step()\n",
    "\n",
    "                # statistics\n",
    "                running_loss += loss.data[0]\n",
    "                running_corrects += torch.sum(preds == labels.data)\n",
    "\n",
    "            epoch_loss = running_loss / dset_sizes[phase]\n",
    "            epoch_acc = running_corrects / dset_sizes[phase]\n",
    "\n",
    "            print('{} Loss: {:.4f} Acc: {:.4f}'.format(\n",
    "                phase, epoch_loss, epoch_acc))\n",
    "\n",
    "            # deep copy the model\n",
    "            if phase == 'val' and epoch_acc > best_acc:\n",
    "                best_acc = epoch_acc\n",
    "                best_model = copy.deepcopy(model)\n",
    "        # saving weights\n",
    "        torch.save(model, \"./trained_weights/\" + model_name + '_' + str(epoch) + \".pt\")\n",
    "\n",
    "        print()\n",
    "\n",
    "    time_elapsed = time.time() - since\n",
    "    print('Training complete in {:.0f}m {:.0f}s'.format(\n",
    "        time_elapsed // 60, time_elapsed % 60))\n",
    "    print('Best val Acc: {:4f}'.format(best_acc))\n",
    "    return best_model\n"
   ]
  },
  {
   "cell_type": "code",
   "execution_count": null,
   "metadata": {
    "collapsed": true
   },
   "outputs": [],
   "source": []
  },
  {
   "cell_type": "code",
   "execution_count": null,
   "metadata": {
    "collapsed": true
   },
   "outputs": [],
   "source": [
    "# # Test set is not implemented yet\n",
    "\n",
    "# # Test the Model\n",
    "# correct = 0\n",
    "# total = 0\n",
    "# for images, labels in test_loader:\n",
    "#     images = Variable(images.view(-1, sequence_length, input_size))\n",
    "#     outputs = rnn(images)\n",
    "#     _, predicted = torch.max(outputs.data, 1)\n",
    "#     total += labels.size(0)\n",
    "#     correct += (predicted == labels).sum()\n",
    "\n",
    "# print('Test Accuracy of the model on the 10000 test images: %d %%' % (100 * correct / total)) \n",
    "\n",
    "# # Save the Model\n",
    "# # torch.save(rnn.state_dict(), 'rnn.pkl')\n",
    "# # torch.save(rnn, 'rnn.pt')"
   ]
  },
  {
   "cell_type": "markdown",
   "metadata": {},
   "source": [
    "# Generate dummy data set"
   ]
  },
  {
   "cell_type": "code",
   "execution_count": null,
   "metadata": {
    "collapsed": true
   },
   "outputs": [],
   "source": [
    "import numpy as np"
   ]
  },
  {
   "cell_type": "code",
   "execution_count": null,
   "metadata": {
    "collapsed": true
   },
   "outputs": [],
   "source": [
    "n_feat = 100\n",
    "n_seq = 50 # fixed for now\n",
    "n_video = 10"
   ]
  },
  {
   "cell_type": "code",
   "execution_count": null,
   "metadata": {
    "collapsed": true
   },
   "outputs": [],
   "source": [
    "for i in range(4,5):\n",
    "    tmp_data = np.random.random((n_seq+1, n_feat))\n",
    "    np.save('data/features/Archery/v' + str(i) + '.npy', tmp_data)"
   ]
  },
  {
   "cell_type": "code",
   "execution_count": null,
   "metadata": {
    "collapsed": true
   },
   "outputs": [],
   "source": []
  }
 ],
 "metadata": {
  "kernelspec": {
   "display_name": "Python [default]",
   "language": "python",
   "name": "python3"
  },
  "language_info": {
   "codemirror_mode": {
    "name": "ipython",
    "version": 3
   },
   "file_extension": ".py",
   "mimetype": "text/x-python",
   "name": "python",
   "nbconvert_exporter": "python",
   "pygments_lexer": "ipython3",
   "version": "3.5.3"
  }
 },
 "nbformat": 4,
 "nbformat_minor": 2
}
